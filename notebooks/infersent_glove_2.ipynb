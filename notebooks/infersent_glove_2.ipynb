{
 "cells": [
  {
   "cell_type": "code",
   "execution_count": 1,
   "metadata": {},
   "outputs": [],
   "source": [
    "import itertools\n",
    "import time\n",
    "import string\n",
    "import math\n",
    "from random import randint\n",
    "import matplotlib.pyplot as plt\n",
    "import numpy as np\n",
    "import scipy as sp\n",
    "import urllib.request\n",
    "import nltk\n",
    "import re\n",
    "from bs4 import BeautifulSoup\n",
    "from collections import defaultdict\n",
    "from sklearn.metrics.pairwise import cosine_similarity"
   ]
  },
  {
   "cell_type": "markdown",
   "metadata": {},
   "source": [
    "### Fetch the article text"
   ]
  },
  {
   "cell_type": "code",
   "execution_count": 5,
   "metadata": {},
   "outputs": [],
   "source": [
    "url = 'https://en.wikipedia.org/wiki/India'"
   ]
  },
  {
   "cell_type": "code",
   "execution_count": 6,
   "metadata": {},
   "outputs": [],
   "source": [
    "# Scrape article using bs4 to extract all paragraphs from the online article.\n",
    "raw_html = urllib.request.urlopen(url)\n",
    "raw_html = raw_html.read()\n",
    "\n",
    "article_html = BeautifulSoup(raw_html, 'lxml')\n",
    "article_paragraphs = article_html.find_all('p')"
   ]
  },
  {
   "cell_type": "code",
   "execution_count": 7,
   "metadata": {},
   "outputs": [],
   "source": [
    "# Creating a document 'article_text' containing all the sentences in the article.\n",
    "article_text = ''\n",
    "for para in article_paragraphs:\n",
    "    article_text += para.text"
   ]
  },
  {
   "cell_type": "code",
   "execution_count": 8,
   "metadata": {},
   "outputs": [],
   "source": [
    "# Tokenize article text into sentences.\n",
    "article_sentences = nltk.sent_tokenize(article_text)"
   ]
  },
  {
   "cell_type": "markdown",
   "metadata": {},
   "source": [
    "### Preprocess sentences for InferSent encodings"
   ]
  },
  {
   "cell_type": "code",
   "execution_count": 9,
   "metadata": {},
   "outputs": [
    {
     "data": {
      "text/plain": [
       "['India (Hindi: Bhārat), officially the Republic of India (Hindi: Bhārat Gaṇarājya), is a country in South Asia.',\n",
       " 'It is the second-most populous country, the seventh-largest country by land area, and the most populous democracy in the world.',\n",
       " 'Bounded by the Indian Ocean on the south, the Arabian Sea on the southwest, and the Bay of Bengal on the southeast, it shares land borders with Pakistan to the west; China, Nepal, and Bhutan to the north; and Bangladesh and Myanmar to the east.',\n",
       " 'In the Indian Ocean, India is in the vicinity of Sri Lanka and the Maldives; its Andaman and Nicobar Islands share a maritime border with Thailand and Indonesia.',\n",
       " 'Modern humans arrived on the Indian subcontinent from Africa no later than 55,000 years ago.']"
      ]
     },
     "execution_count": 9,
     "metadata": {},
     "output_type": "execute_result"
    }
   ],
   "source": [
    "# Clean the article sentence to remove extra whitespaces and reference numbers (such as \"[23]\")\n",
    "\n",
    "for i in range(len(article_sentences)):\n",
    "    article_sentences[i] = re.sub(r'\\[\\d+\\]', '', article_sentences[i])\n",
    "    article_sentences[i] = re.sub(r'\\[\\w\\]', '', article_sentences[i])\n",
    "    article_sentences[i] = re.sub(r'\\s+', ' ', article_sentences[i]).strip()\n",
    "article_sentences[:5]"
   ]
  },
  {
   "cell_type": "markdown",
   "metadata": {},
   "source": [
    "### Implementation of InferSent Sentence Encoder"
   ]
  },
  {
   "cell_type": "code",
   "execution_count": 10,
   "metadata": {},
   "outputs": [],
   "source": [
    "# import stuff\n",
    "%load_ext autoreload\n",
    "%autoreload 2\n",
    "%matplotlib inline\n",
    "\n",
    "from random import randint\n",
    "\n",
    "import numpy as np\n",
    "import torch"
   ]
  },
  {
   "cell_type": "markdown",
   "metadata": {},
   "source": [
    "### Load the model:\n",
    "Load infersent model (version 1) which has been trained on GloVe embeddings"
   ]
  },
  {
   "cell_type": "code",
   "execution_count": 11,
   "metadata": {},
   "outputs": [
    {
     "data": {
      "text/plain": [
       "<All keys matched successfully>"
      ]
     },
     "execution_count": 11,
     "metadata": {},
     "output_type": "execute_result"
    }
   ],
   "source": [
    "# Load model\n",
    "from models import InferSent\n",
    "model_version = 1\n",
    "MODEL_PATH = \"../InferSent/encoder/infersent%s.pkl\" % model_version\n",
    "params_model = {'bsize': 64, 'word_emb_dim': 300, 'enc_lstm_dim': 2048,\n",
    "                'pool_type': 'max', 'dpout_model': 0.0, 'version': model_version}\n",
    "model = InferSent(params_model)\n",
    "model.load_state_dict(torch.load(MODEL_PATH))"
   ]
  },
  {
   "cell_type": "markdown",
   "metadata": {},
   "source": [
    "### Set the GloVe directory path"
   ]
  },
  {
   "cell_type": "code",
   "execution_count": 12,
   "metadata": {},
   "outputs": [],
   "source": [
    "W2V_PATH = '../word_vectors/glove/glove.6B.300d.txt'\n",
    "model.set_w2v_path(W2V_PATH)"
   ]
  },
  {
   "cell_type": "code",
   "execution_count": 13,
   "metadata": {},
   "outputs": [
    {
     "name": "stdout",
     "output_type": "stream",
     "text": [
      "Vocab size : 100000\n"
     ]
    }
   ],
   "source": [
    "# Load embeddings of K most frequent words\n",
    "model.build_vocab_k_words(K=100000)"
   ]
  },
  {
   "cell_type": "code",
   "execution_count": 14,
   "metadata": {},
   "outputs": [
    {
     "data": {
      "text/plain": [
       "443"
      ]
     },
     "execution_count": 14,
     "metadata": {},
     "output_type": "execute_result"
    }
   ],
   "source": [
    "# Number of article sentences to be encoded:\n",
    "len(article_sentences)"
   ]
  },
  {
   "cell_type": "markdown",
   "metadata": {},
   "source": [
    "### Encode sentences\n",
    "* CPU Speed: ~100 sentences/sec\n",
    "* GPU Speed: ~1000 sentences/sec"
   ]
  },
  {
   "cell_type": "code",
   "execution_count": 15,
   "metadata": {
    "scrolled": true
   },
   "outputs": [
    {
     "name": "stdout",
     "output_type": "stream",
     "text": [
      "Nb words kept : 7293/11301 (64.5%)\n",
      "Speed : 57.8 sentences/s (cpu mode, bsize=128)\n",
      "nb sentences encoded : 443\n"
     ]
    }
   ],
   "source": [
    "embeddings = model.encode(article_sentences, bsize=128, tokenize=False, verbose=True)\n",
    "print('nb sentences encoded : {0}'.format(len(embeddings)))"
   ]
  },
  {
   "cell_type": "code",
   "execution_count": 16,
   "metadata": {},
   "outputs": [
    {
     "data": {
      "text/plain": [
       "array([[0.09396838, 0.07308353, 0.04056723, ..., 0.01159299, 0.        ,\n",
       "        0.05563534],\n",
       "       [0.04758248, 0.03204281, 0.04894754, ..., 0.00389264, 0.        ,\n",
       "        0.02934591]], dtype=float32)"
      ]
     },
     "execution_count": 16,
     "metadata": {},
     "output_type": "execute_result"
    }
   ],
   "source": [
    "embeddings[:2]"
   ]
  },
  {
   "cell_type": "code",
   "execution_count": 17,
   "metadata": {},
   "outputs": [
    {
     "data": {
      "text/plain": [
       "(443, 4096)"
      ]
     },
     "execution_count": 17,
     "metadata": {},
     "output_type": "execute_result"
    }
   ],
   "source": [
    "embeddings.shape"
   ]
  },
  {
   "cell_type": "markdown",
   "metadata": {},
   "source": [
    "### Exploring cosine similarity between any 2 sentences in the article\n",
    "Note: model.visualize(article_sentences[randint(0, len(article_sentences))]) throws an error"
   ]
  },
  {
   "cell_type": "code",
   "execution_count": 18,
   "metadata": {},
   "outputs": [],
   "source": [
    "def cosine(u, v):\n",
    "    return np.dot(u, v) / (np.linalg.norm(u) * np.linalg.norm(v))\n",
    "\n",
    "def euclidean_dist(u, v):\n",
    "    return math.sqrt(sum([(a - b) ** 2 for a, b in zip(u, v)]))"
   ]
  },
  {
   "cell_type": "code",
   "execution_count": 19,
   "metadata": {
    "scrolled": true
   },
   "outputs": [
    {
     "name": "stdout",
     "output_type": "stream",
     "text": [
      "Sentence 1:\n",
      "Indian movies, music, and spiritual teachings play an increasing role in global culture.\n",
      "\n",
      "Sentence 2:\n",
      "Historians consider India's modern age to have begun sometime between 1848 and 1885.\n",
      "\n",
      "Cosine similarity = 0.8358312845230103\n",
      "Euclidean Distance = 2.948698259397073\n"
     ]
    }
   ],
   "source": [
    "random_sent1 = article_sentences[randint(0, len(article_sentences))]\n",
    "random_sent2 = article_sentences[randint(0, len(article_sentences))]\n",
    "\n",
    "cosine_sim = cosine(model.encode([random_sent1])[0], model.encode([random_sent2])[0])\n",
    "euclidean_d_value = euclidean_dist(model.encode([random_sent1])[0], model.encode([random_sent2])[0])\n",
    "\n",
    "print(\"Sentence 1:\\n{0}\\n\\nSentence 2:\\n{1}\\n\".format(random_sent1, random_sent2))\n",
    "print(\"Cosine similarity = {0}\\nEuclidean Distance = {1}\".format(cosine_sim, euclidean_d_value))"
   ]
  },
  {
   "cell_type": "markdown",
   "metadata": {},
   "source": [
    "#### Function to find the 'N' most similar sentences to the question sentence"
   ]
  },
  {
   "cell_type": "code",
   "execution_count": 20,
   "metadata": {},
   "outputs": [],
   "source": [
    "def get_most_similar_sentences(question_vector, sent_count):\n",
    "    \"\"\"Returns the most similar sentences to the question vector.\n",
    "    Similarity Coefficient used: Cosine Index\n",
    "    Sentence count refers to number of most similar sentences to be returned.\n",
    "    \"\"\"\n",
    "    most_sim_sentences = []\n",
    "    for sent_index, sent_vector in enumerate(embeddings):\n",
    "        most_sim_sentences.append((sent_index, cosine(question_vector, sent_vector))) # appending a tuple\n",
    "    most_sim_sentences.sort(key = lambda x: x[1], reverse = True)\n",
    "    if sent_count <= len(embeddings):\n",
    "        return most_sim_sentences[:sent_count]\n",
    "    else:\n",
    "        print('Enter value less than or equal to {0}'.format(len(embeddings)))"
   ]
  },
  {
   "cell_type": "markdown",
   "metadata": {},
   "source": [
    "### Testing for a question"
   ]
  },
  {
   "cell_type": "code",
   "execution_count": 115,
   "metadata": {
    "scrolled": true
   },
   "outputs": [
    {
     "name": "stdout",
     "output_type": "stream",
     "text": [
      "Nb words kept : 2/7 (28.6%)\n",
      "Speed : 21.2 sentences/s (cpu mode, bsize=128)\n",
      "Question vector: [ 0.12260894 -0.02809364 -0.06930935 ... -0.04209305 -0.0116544\n",
      " -0.00440081]\n",
      "nb sentences encoded : 1\n"
     ]
    }
   ],
   "source": [
    "# Encode the question\n",
    "\n",
    "question = 'Which sports does India play?'\n",
    "question = [question]\n",
    "question_vector = model.encode(question, bsize=128, tokenize=False, verbose=True)[0]\n",
    "print('Question vector: {0}'.format(question_vector))\n",
    "print('nb sentences encoded : {0}'.format(len(question)))"
   ]
  },
  {
   "cell_type": "markdown",
   "metadata": {},
   "source": [
    "Get 5 most similar sentences"
   ]
  },
  {
   "cell_type": "code",
   "execution_count": 116,
   "metadata": {
    "scrolled": false
   },
   "outputs": [
    {
     "name": "stdout",
     "output_type": "stream",
     "text": [
      "[(435, 0.64317966), (427, 0.6050891), (291, 0.5923977), (433, 0.5900625), (313, 0.5883014), (436, 0.5875959), (390, 0.5873149), (65, 0.58635235), (267, 0.58587784), (396, 0.58271354), (88, 0.57939845), (321, 0.5772279), (357, 0.5771875), (372, 0.5771079), (441, 0.5763645), (363, 0.5749421), (386, 0.5719792), (368, 0.5717528), (185, 0.5707856), (440, 0.56976664), (350, 0.5690096), (389, 0.56888735), (262, 0.5687984), (378, 0.5686894), (191, 0.5679551), (276, 0.5666871), (203, 0.56623876), (353, 0.5659143), (67, 0.5653413), (175, 0.56526786)]\n"
     ]
    }
   ],
   "source": [
    "most_sim_sentences = get_most_similar_sentences(question_vector, 30)\n",
    "print(most_sim_sentences)"
   ]
  },
  {
   "cell_type": "markdown",
   "metadata": {},
   "source": [
    "Print the most similar sentences"
   ]
  },
  {
   "cell_type": "code",
   "execution_count": 117,
   "metadata": {
    "scrolled": true
   },
   "outputs": [
    {
     "name": "stdout",
     "output_type": "stream",
     "text": [
      "Sentence Index 435, Similarity Score = 0.6431796550750732:\n",
      "Cricket is the most popular sport in India.\n",
      "\n",
      "Sentence Index 427, Similarity Score = 0.6050891280174255:\n",
      "In India, several traditional indigenous sports remain fairly popular, such as kabaddi, kho kho, pehlwani and gilli-danda.\n",
      "\n",
      "Sentence Index 291, Similarity Score = 0.5923976898193359:\n",
      "Corruption in India is perceived to have decreased.\n",
      "\n",
      "Sentence Index 433, Similarity Score = 0.5900624990463257:\n",
      "Other sports in which Indians have succeeded internationally include badminton (Saina Nehwal and P V Sindhu are two of the top-ranked female badminton players in the world), boxing, and wrestling.\n",
      "\n",
      "Sentence Index 313, Similarity Score = 0.588301420211792:\n",
      "India has no national language.\n",
      "\n",
      "Sentence Index 436, Similarity Score = 0.5875958800315857:\n",
      "Major domestic competitions include the Indian Premier League, which is the most-watched cricket league in the world and ranks sixth among all sports leagues.\n",
      "\n",
      "Sentence Index 390, Similarity Score = 0.5873149037361145:\n",
      "The kameez may have a European-style collar, a Mandarin-collar, or it may be collarless; in the latter case, its design as a women's garment is similar to a kurta.\n",
      "\n",
      "Sentence Index 65, Similarity Score = 0.5863523483276367:\n",
      "Under the Guptas, a renewed Hinduism based on devotion, rather than the management of ritual, began to assert itself.\n",
      "\n",
      "Sentence Index 267, Similarity Score = 0.5858778357505798:\n",
      "According to a 2011 PricewaterhouseCoopers (PwC) report, India's GDP at purchasing power parity could overtake that of the United States by 2045.\n",
      "\n",
      "Sentence Index 396, Similarity Score = 0.5827135443687439:\n",
      "Increasingly, in urban settings in northern India, the sari is no longer the apparel of everyday wear, transformed instead into one for formal occasions.\n",
      "\n",
      "Sentence Index 88, Similarity Score = 0.5793984532356262:\n",
      "The resulting Mughal Empire did not stamp out the local societies it came to rule.\n",
      "\n",
      "Sentence Index 321, Similarity Score = 0.5772278904914856:\n",
      "India is notable for its religious diversity, with Hinduism, Buddhism, Sikhism, Islam, Christianity, and Jainism among the nation's major religions.\n",
      "\n",
      "Sentence Index 357, Similarity Score = 0.5771874785423279:\n",
      "At the workplace in urban India, and in international or leading Indian companies, caste-related identification has pretty much lost its importance.\n",
      "\n",
      "Sentence Index 372, Similarity Score = 0.5771079063415527:\n",
      "In its more modern form, it has been used to cover the head, and sometimes the face, as a veil.\n",
      "\n",
      "Sentence Index 441, Similarity Score = 0.5763645172119141:\n",
      "An example of this dominance is the basketball competition where the Indian team won three out of four tournaments to date.\n",
      "\n",
      "Sentence Index 363, Similarity Score = 0.5749421119689941:\n",
      "Accord to an Indian government study, an additional 21 million girls are unwanted and do not receive adequate care.\n",
      "\n",
      "Sentence Index 386, Similarity Score = 0.5719792246818542:\n",
      "The pants can be wide and baggy, or they can be cut quite narrow, on the bias, in which case they are called churidars.\n",
      "\n",
      "Sentence Index 368, Similarity Score = 0.5717527866363525:\n",
      "The best known include: Diwali, Ganesh Chaturthi, Thai Pongal, Holi, Durga Puja, Eid ul-Fitr, Bakr-Id, Christmas, and Vaisakhi.\n",
      "\n",
      "Sentence Index 185, Similarity Score = 0.5707855820655823:\n",
      "The Congress, as the largest single party, was able to form a minority government led by P. V. Narasimha Rao.\n",
      "\n",
      "Sentence Index 440, Similarity Score = 0.569766640663147:\n",
      "India has traditionally been the dominant country at the South Asian Games.\n",
      "\n",
      "Sentence Index 350, Similarity Score = 0.5690096020698547:\n",
      "The state monopoly on television broadcast ended in the 1990s.\n",
      "\n",
      "Sentence Index 389, Similarity Score = 0.5688873529434204:\n",
      "The kameez is usually cut straight and flat; older kameez use traditional cuts; modern kameez are more likely to have European-inspired set-in sleeves.\n",
      "\n",
      "Sentence Index 262, Similarity Score = 0.5687984228134155:\n",
      "India's consumer market, the world's eleventh-largest, is expected to become fifth-largest by 2030.\n",
      "\n",
      "Sentence Index 378, Similarity Score = 0.5686894059181213:\n",
      "Other forms of traditional apparel that involve no stitching or tailoring are the chaddar (a shawl worn by both sexes to cover the upper body during colder weather, or a large veil worn by women for framing the head, or covering it) and the pagri (a turban or a scarf worn around the head as a part of a tradition, or to keep off the sun or the cold).\n",
      "\n",
      "Sentence Index 191, Similarity Score = 0.5679550766944885:\n",
      "Again in the 2004 Indian general elections, no party won an absolute majority, but the Congress emerged as the largest single party, forming another successful coalition: the United Progressive Alliance (UPA).\n",
      "\n",
      "Sentence Index 276, Similarity Score = 0.5666871070861816:\n",
      "The pharmaceutical industry in India is among the significant emerging markets for the global pharmaceutical industry.\n",
      "\n",
      "Sentence Index 203, Similarity Score = 0.5662387609481812:\n",
      "The Government of India comprises three branches: India is a federal union comprising 28 states and 8 union territories.\n",
      "\n",
      "Sentence Index 353, Similarity Score = 0.5659142732620239:\n",
      "Traditional Indian society is sometimes defined by social hierarchy.\n",
      "\n",
      "Sentence Index 67, Similarity Score = 0.5653412938117981:\n",
      "Classical Sanskrit literature flowered as well, and Indian science, astronomy, medicine, and mathematics made significant advances.\n",
      "\n",
      "Sentence Index 175, Similarity Score = 0.5652678608894348:\n",
      "The Congress is considered centre-left in Indian political culture, and the BJP right-wing.\n",
      "\n"
     ]
    }
   ],
   "source": [
    "for sent_index, similarity_score in most_sim_sentences:\n",
    "    print('Sentence Index {}, Similarity Score = {}:\\n{}\\n'.format(sent_index, similarity_score,\n",
    "                                                                        article_sentences[sent_index]))"
   ]
  },
  {
   "cell_type": "markdown",
   "metadata": {},
   "source": [
    "### Building the \"context\" paragraph for the question"
   ]
  },
  {
   "cell_type": "code",
   "execution_count": 123,
   "metadata": {},
   "outputs": [],
   "source": [
    "context_list = []\n",
    "context_token_count = 0\n",
    "max_token_count = 400"
   ]
  },
  {
   "cell_type": "code",
   "execution_count": 124,
   "metadata": {},
   "outputs": [
    {
     "name": "stdout",
     "output_type": "stream",
     "text": [
      "18\n"
     ]
    }
   ],
   "source": [
    "for sent_index, similarity_score in most_sim_sentences:\n",
    "    sent_token_count = len(nltk.word_tokenize(article_sentences[sent_index]))\n",
    "    if context_token_count + sent_token_count < max_token_count:\n",
    "        context_list.append(article_sentences[sent_index])\n",
    "        context_token_count += sent_token_count\n",
    "\n",
    "print(len(context_list))"
   ]
  },
  {
   "cell_type": "code",
   "execution_count": 125,
   "metadata": {},
   "outputs": [],
   "source": [
    "context_para = ' '.join(context_list)"
   ]
  },
  {
   "cell_type": "code",
   "execution_count": 126,
   "metadata": {},
   "outputs": [
    {
     "data": {
      "text/plain": [
       "\"Cricket is the most popular sport in India. In India, several traditional indigenous sports remain fairly popular, such as kabaddi, kho kho, pehlwani and gilli-danda. Corruption in India is perceived to have decreased. Other sports in which Indians have succeeded internationally include badminton (Saina Nehwal and P V Sindhu are two of the top-ranked female badminton players in the world), boxing, and wrestling. India has no national language. Major domestic competitions include the Indian Premier League, which is the most-watched cricket league in the world and ranks sixth among all sports leagues. The kameez may have a European-style collar, a Mandarin-collar, or it may be collarless; in the latter case, its design as a women's garment is similar to a kurta. Under the Guptas, a renewed Hinduism based on devotion, rather than the management of ritual, began to assert itself. According to a 2011 PricewaterhouseCoopers (PwC) report, India's GDP at purchasing power parity could overtake that of the United States by 2045. Increasingly, in urban settings in northern India, the sari is no longer the apparel of everyday wear, transformed instead into one for formal occasions. The resulting Mughal Empire did not stamp out the local societies it came to rule. India is notable for its religious diversity, with Hinduism, Buddhism, Sikhism, Islam, Christianity, and Jainism among the nation's major religions. At the workplace in urban India, and in international or leading Indian companies, caste-related identification has pretty much lost its importance. In its more modern form, it has been used to cover the head, and sometimes the face, as a veil. An example of this dominance is the basketball competition where the Indian team won three out of four tournaments to date. Accord to an Indian government study, an additional 21 million girls are unwanted and do not receive adequate care. The pants can be wide and baggy, or they can be cut quite narrow, on the bias, in which case they are called churidars. India has traditionally been the dominant country at the South Asian Games.\""
      ]
     },
     "execution_count": 126,
     "metadata": {},
     "output_type": "execute_result"
    }
   ],
   "source": [
    "context_para"
   ]
  },
  {
   "cell_type": "code",
   "execution_count": 127,
   "metadata": {},
   "outputs": [
    {
     "data": {
      "text/plain": [
       "396"
      ]
     },
     "execution_count": 127,
     "metadata": {},
     "output_type": "execute_result"
    }
   ],
   "source": [
    "len(nltk.word_tokenize(context_para))"
   ]
  }
 ],
 "metadata": {
  "kernelspec": {
   "display_name": "Python 3",
   "language": "python",
   "name": "python3"
  },
  "language_info": {
   "codemirror_mode": {
    "name": "ipython",
    "version": 3
   },
   "file_extension": ".py",
   "mimetype": "text/x-python",
   "name": "python",
   "nbconvert_exporter": "python",
   "pygments_lexer": "ipython3",
   "version": "3.7.6"
  }
 },
 "nbformat": 4,
 "nbformat_minor": 4
}
