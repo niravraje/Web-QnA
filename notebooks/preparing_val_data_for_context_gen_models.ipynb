{
 "cells": [
  {
   "cell_type": "code",
   "execution_count": 1,
   "metadata": {},
   "outputs": [],
   "source": [
    "import string\n",
    "import random\n",
    "import numpy as np\n",
    "import scipy as sp\n",
    "import urllib.request\n",
    "import nltk\n",
    "import re\n",
    "import heapq\n",
    "from bs4 import BeautifulSoup\n",
    "from collections import defaultdict\n",
    "from sklearn.metrics.pairwise import cosine_similarity"
   ]
  },
  {
   "cell_type": "code",
   "execution_count": 2,
   "metadata": {},
   "outputs": [],
   "source": [
    "def get_article_text(url):\n",
    "    # Scrape article using bs4 to extract all paragraphs from the online article.\n",
    "    raw_html = urllib.request.urlopen(url)\n",
    "    raw_html = raw_html.read()\n",
    "\n",
    "    article_html = BeautifulSoup(raw_html, 'lxml')\n",
    "    article_paragraphs = article_html.find_all('p')\n",
    "\n",
    "    # Creating a document 'article_text' containing all the sentences in the article.\n",
    "    article_text = ''\n",
    "    for para in article_paragraphs:\n",
    "        article_text += para.text\n",
    "    return article_text"
   ]
  },
  {
   "cell_type": "code",
   "execution_count": 3,
   "metadata": {},
   "outputs": [],
   "source": [
    "article_text = get_article_text('https://en.wikipedia.org/wiki/India')"
   ]
  },
  {
   "cell_type": "code",
   "execution_count": 4,
   "metadata": {},
   "outputs": [],
   "source": [
    "def clean_sentence(sentence):\n",
    "    sentence = sentence.lower()\n",
    "    sentence = re.sub(r'\\W', ' ', sentence)\n",
    "    sentence = re.sub(r'\\s+', ' ', sentence)\n",
    "    return sentence"
   ]
  },
  {
   "cell_type": "code",
   "execution_count": 5,
   "metadata": {},
   "outputs": [],
   "source": [
    "def clean_article_text(article_text):\n",
    "    # Creating a corpus containing all the sentence tokens in the document.\n",
    "    corpus = nltk.sent_tokenize(article_text)\n",
    "    # Convert to lowercase, remove non-word characters (punctuations, etc.) and strip whitespaces\n",
    "    for i in range(len(corpus)):\n",
    "        corpus[i] = clean_sentence(corpus[i])\n",
    "    return corpus"
   ]
  },
  {
   "cell_type": "code",
   "execution_count": 6,
   "metadata": {},
   "outputs": [],
   "source": [
    "article_sentences = nltk.sent_tokenize(article_text)\n",
    "\n",
    "# Tokenize article text into sentences.\n",
    "article_sentences = nltk.sent_tokenize(article_text)\n",
    "\n",
    "# Clean the article sentence to remove extra whitespaces and reference numbers (such as \"[23]\")\n",
    "for i in range(len(article_sentences)):\n",
    "    article_sentences[i] = re.sub(r'\\[\\d+\\]', '', article_sentences[i])\n",
    "    article_sentences[i] = re.sub(r'\\[\\d+,\\s\\d+]', '', article_sentences[i])\n",
    "    article_sentences[i] = re.sub(r'\\[\\w\\]', '', article_sentences[i])\n",
    "    article_sentences[i] = re.sub(r'\\s+', ' ', article_sentences[i]).strip()"
   ]
  },
  {
   "cell_type": "code",
   "execution_count": 42,
   "metadata": {
    "scrolled": true
   },
   "outputs": [
    {
     "data": {
      "text/plain": [
       "100"
      ]
     },
     "execution_count": 42,
     "metadata": {},
     "output_type": "execute_result"
    }
   ],
   "source": [
    "val_article_sentences = article_sentences[::4][:-11]\n",
    "len(val_article_sentences)"
   ]
  },
  {
   "cell_type": "code",
   "execution_count": 43,
   "metadata": {},
   "outputs": [],
   "source": [
    "val_answers = dict()\n",
    "val_questions = dict()"
   ]
  },
  {
   "cell_type": "code",
   "execution_count": 44,
   "metadata": {},
   "outputs": [
    {
     "name": "stdout",
     "output_type": "stream",
     "text": [
      "\n",
      "Sentence 0: India (Hindi: Bhārat), officially the Republic of India (Hindi: Bhārat Gaṇarājya), is a country in South Asia.\n",
      "Enter question: What is India?\n",
      "\n",
      "Sentence 1: Modern humans arrived on the Indian subcontinent from Africa no later than 55,000 years ago.\n",
      "Enter question: When did modern humans arrive on the Indian subcontinent?\n",
      "\n",
      "Sentence 2: The Dravidian languages of India were supplanted in the northern and western regions.\n",
      "Enter question: Where were the Dravidian languages of India supplanted?\n",
      "\n",
      "Sentence 3: In South India, the Middle kingdoms exported Dravidian-languages scripts and religious cultures to the kingdoms of Southeast Asia.\n",
      "Enter question: Where were the Dravidian-languages scripts and religious cultures exported?\n",
      "\n",
      "Sentence 4: In the Punjab, Sikhism emerged, rejecting institutionalised religion.\n",
      "Enter question: What emerged in Punjab which rejected instituionalized religion?\n",
      "\n",
      "Sentence 5: The rights promised to Indians were granted slowly, but technological changes were introduced, and ideas of education, modernity and the public life took root.\n",
      "Enter question: Which ideas took root in India due to technological changes?\n",
      "\n",
      "Sentence 6: It is a pluralistic, multilingual and multi-ethnic society.\n",
      "Enter question: Is India a multilingual society?\n",
      "\n",
      "Sentence 7: It has a space programme which includes several planned or completed extraterrestrial missions.\n",
      "Enter question: Does India have a space programme?\n",
      "\n",
      "Sentence 8: It has disputes over Kashmir with its neighbours, Pakistan and China, unresolved since the mid-20th century.\n",
      "Enter question: Which neighbours does India have a dispute with over Kashmir?\n",
      "\n",
      "Sentence 9: India's wildlife, which has traditionally been viewed with tolerance in India's culture, is supported among these forests, and elsewhere, in protected habitats.\n",
      "Enter question: What is supported in India's forests and protected habitats?\n",
      "\n",
      "Sentence 10: A modern rendering of the historical name Bharatavarsha, which applied originally to a region of the Gangetic Valley, Bharat gained increased currency from the mid-19th century as a native name for India.\n",
      "Enter question: When did the name Bharat gain increased currency as a native name for India?\n",
      "\n",
      "Sentence 11: The earliest known modern human remains in South Asia date to about 30,000 years ago.\n",
      "Enter question: How many years ago does the earliest known modern human remain in India?\n",
      "\n",
      "Sentence 12: During the period 2000–500 BCE, many regions of the subcontinent transitioned from the Chalcolithic cultures to the Iron Age ones.\n",
      "Enter question: When did the regions of the Indian subcontinent transitioned from the Chalcolithic cultures to the Iron Age ones?\n",
      "\n",
      "Sentence 13: On the Deccan Plateau, archaeological evidence from this period suggests the existence of a chiefdom stage of political organisation.\n",
      "Enter question: What does archaeological evidence suggest about the Deccan Plateau?\n",
      "\n",
      "Sentence 14: Jainism came into prominence during the life of its exemplar, Mahavira.\n",
      "Enter question: When did Jainism come into prominence?\n",
      "\n",
      "Sentence 15: The empire was once thought to have controlled most of the subcontinent except the far south, but its core regions are now thought to have been separated by large autonomous areas.\n",
      "Enter question: How much area did the empire control in the subcontinent and what were its core regions? \n",
      "\n",
      "Sentence 16: By the 4th and 5th centuries, the Gupta Empire had created a complex system of administration and taxation in the greater Ganges Plain; this system became a model for later Indian kingdoms.\n",
      "Enter question: Which empire had created a complex system of administration and taxation in the greater Ganges Plain which became a model for later Indian kingdoms?\n",
      "\n",
      "Sentence 17: The Indian early medieval age, 600 CE to 1200 CE, is defined by regional kingdoms and cultural diversity.\n",
      "Enter question: What defines the Indian early medieval age, 600 CE to 1200 CE?\n",
      "\n",
      "Sentence 18: No ruler of this period was able to create an empire and consistently control lands much beyond his core region.\n",
      "Enter question: Could any ruler of this period control lands beyond their core region?\n",
      "\n",
      "Sentence 19: They were imitated all over India and led to both the resurgence of Hinduism and the development of all modern languages of the subcontinent.\n",
      "Enter question: What led to both the resurgence of Hinduism and the development of modern languages in the subcontinent?\n",
      "\n",
      "Sentence 20: Indian merchants, scholars, and sometimes armies were involved in this transmission; South-East Asians took the initiative as well, with many sojourning in Indian seminaries and translating Buddhist and Hindu texts into their languages.\n",
      "Enter question: Who took the initiative to sojourn in Indian seminaries and translate Buddhist and Hindu texts?\n",
      "\n",
      "Sentence 21: By repeatedly repulsing Mongol raiders in the 13th century, the sultanate saved India from the devastation visited on West and Central Asia, setting the scene for centuries of migration of fleeing soldiers, learned men, mystics, traders, artists, and artisans from that region into the subcontinent, thereby creating a syncretic Indo-Islamic culture in the north.\n",
      "Enter question: Who saved India from the devastation visited on West and Central Asia and how was a sycretic Indo-Islamic culture created in the north?\n",
      "\n",
      "Sentence 22: The resulting Mughal Empire did not stamp out the local societies it came to rule.\n",
      "Enter question: What did the resulting Mughal Empire do to the local societies it came to rule?\n",
      "\n",
      "Sentence 23: The relative peace maintained by the empire during much of the 17th century was a factor in India's economic expansion, resulting in greater patronage of painting, literary forms, textiles, and architecture.\n",
      "Enter question: In the 17th century, what was a factor in India's economic expansion?\n",
      "\n",
      "Sentence 24: By the early 18th century, with the lines between commercial and political dominance being increasingly blurred, a number of European trading companies, including the English East India Company, had established coastal outposts.\n",
      "Enter question: When did European trading companies, including the English East India Company establish coastal outposts in India?\n",
      "\n",
      "Sentence 25: Many historians consider this to be the onset of India's colonial period.\n",
      "Enter question: Who considers this to be the onset of India's colonial period?\n",
      "\n",
      "Sentence 26: These included the consolidation and demarcation of sovereignty, the surveillance of the population, and the education of citizens.\n",
      "Enter question: What other things were followed with the consolidation and demarcation of sovereignty?\n",
      "\n",
      "Sentence 27: Although the rebellion was suppressed by 1858, it led to the dissolution of the East India Company and the direct administration of India by the British government.\n",
      "Enter question: What happened after the rebellion was suppressed in 1858 with respect to the East India Company?\n",
      "\n",
      "Sentence 28: There was an increase in the number of large-scale famines, and, despite the risks of infrastructure development borne by Indian taxpayers, little industrial employment was generated for Indians.\n",
      "Enter question: What were the things that followed the increase in the number of large-scale famines for Indian taxpayers?\n",
      "\n",
      "Sentence 29: It was marked by British reforms but also repressive legislation, by more strident Indian calls for self-rule, and by the beginnings of a nonviolent movement of non-co-operation, of which Mohandas Karamchand Gandhi would become the leader and enduring symbol.\n",
      "Enter question: Who became the leader and enduring symbol of the nonviolent movement of non-co-operation in India?\n",
      "\n",
      "Sentence 30: Vital to India's self-image as an independent nation was its constitution, completed in 1950, which put in place a secular and democratic republic.\n",
      "Enter question: As an independent nation, when was India's constitution completed?\n",
      "\n",
      "Sentence 31: Yet, India is also shaped by seemingly unyielding poverty, both rural and urban; by religious and caste-related violence; by Maoist-inspired Naxalite insurgencies; and by separatism in Jammu and Kashmir and in Northeast India.\n",
      "Enter question: India is shaped by separatism in which states in North India?\n",
      "\n",
      "Sentence 32: India's defining geological processes began 75 million years ago when the Indian Plate, then part of the southern supercontinent Gondwana, began a north-eastward drift caused by seafloor spreading to its south-west, and later, south and south-east.\n"
     ]
    },
    {
     "name": "stdout",
     "output_type": "stream",
     "text": [
      "Enter question: When did India's geological processes begin that began a north-eastward drift caused by seafloor spread?\n",
      "\n",
      "Sentence 33: Cut off from the plain by the ancient Aravalli Range lies the Thar Desert.\n",
      "Enter question: Where does the Thar Desert lie?\n",
      "\n",
      "Sentence 34: To the south, the remaining peninsular landmass, the Deccan Plateau, is flanked on the west and east by coastal ranges known as the Western and Eastern Ghats; the plateau contains the country's oldest rock formations, some over one billion years old.\n",
      "Enter question: To the south, which plateau contains the country's oldest rock formations?\n",
      "\n",
      "Sentence 35: Major Himalayan-origin rivers that substantially flow through India include the Ganges and the Brahmaputra, both of which drain into the Bay of Bengal.\n",
      "Enter question: The Himalayan-origin rivers including the Ganges and Brahmaputra drain into which water body?\n",
      "\n",
      "Sentence 36: India has two archipelagos: the Lakshadweep, coral atolls off India's south-western coast; and the Andaman and Nicobar Islands, a volcanic chain in the Andaman Sea.\n",
      "Enter question: What are the names of India's two archipelagos?\n",
      "\n",
      "Sentence 37: Four major climatic groupings predominate in India: tropical wet, tropical dry, subtropical humid, and montane.\n",
      "Enter question: Which are the major climatic groupings that predominate India?\n",
      "\n",
      "Sentence 38: India also contains four of the world's 34 biodiversity hotspots, or regions that display significant habitat loss in the presence of high endemism.\n",
      "Enter question: How many biodiversity hotspots or regions that display significant habitat does India contain?\n",
      "\n",
      "Sentence 39: It predominates in the tropical moist forest of the Andaman Islands, the Western Ghats, and Northeast India.\n",
      "Enter question: Which ares have a tropical moist forest in India?\n",
      "\n",
      "Sentence 40: Among the Indian subcontinent's notable indigenous trees are the astringent Azadirachta indica, or neem, which is widely used in rural Indian herbal medicine, and the luxuriant Ficus religiosa, or peepul, which is displayed on the ancient seals of Mohenjo-daro, and under which the Buddha is recorded in the Pali canon to have sought enlightenment, Many Indian species have descended from those of Gondwana, the southern supercontinent from which India separated more than 100 million years ago.\n",
      "Enter question: In the Indian subcontinent, which are the notable indigenous trees?\n",
      "\n",
      "Sentence 41: This had the effect of lowering endemism among India's mammals, which stands at 12.6%, contrasting with 45.8% among reptiles and 55.8% among amphibians.\n",
      "Enter question: What is the percent of endemism among India's mammals, reptiles and amphibians?\n",
      "\n",
      "Sentence 42: Critically endangered species include: the gharial, a crocodilian; the great Indian bustard; and the Indian white-rumped vulture, which has become nearly extinct by having ingested the carrion of diclofenac-treated cattle.\n",
      "Enter question: Which are India's critically endangered species?\n",
      "\n",
      "Sentence 43: India hosts more than five hundred wildlife sanctuaries and thirteen biosphere reserves, four of which are part of the World Network of Biosphere Reserves; twenty-five wetlands are registered under the Ramsar Convention.\n",
      "Enter question: How many wildlife sanctuaries and biosphere reserves does India host?\n",
      "\n",
      "Sentence 44: For most of the period between 1950—when India first became a republic—and the late 1980s, the Congress held a majority in the parliament.\n",
      "Enter question: Which party held a majority in the parliament in the period between 1950 and the late 1980s?\n",
      "\n",
      "Sentence 45: Following public discontent with the state of emergency she declared in 1975, the Congress was voted out of power in 1977; the then-new Janata Party, which had opposed the emergency, was voted in.\n",
      "Enter question: When was the Congress voted out of power and which party was voted in?\n",
      "\n",
      "Sentence 46: Elections were held again in 1991; no party won an absolute majority.\n",
      "Enter question: When the elections were held in 1991, which party won an absolute majority?\n",
      "\n",
      "Sentence 47: The BJP formed a government briefly in 1996; it was followed by two comparatively long-lasting United Front coalitions, which depended on external support.\n",
      "Enter question: When did the BJP form a government and what was it followed by?\n",
      "\n",
      "Sentence 48: It had the support of left-leaning parties and MPs who opposed the BJP.\n",
      "Enter question: Which parties and MPs opposed the BJP?\n",
      "\n",
      "Sentence 49: The incumbent prime minister is Narendra Modi, a former chief minister of Gujarat.\n",
      "Enter question: Who is the incumbent prime minister of India?\n",
      "\n",
      "Sentence 50: Federalism in India defines the power distribution between the union and the states.\n",
      "Enter question: In India, what defines the power distribution between the union and the states?\n",
      "\n",
      "Sentence 51: All states, as well as the union territories of Jammu and Kashmir, Puducherry and the National Capital Territory of Delhi, have elected legislatures and governments following the Westminster system of governance.\n",
      "Enter question: Which system of governance has been followed by all states and union territories to elect legislatures and governments?\n",
      "\n",
      "Sentence 52: In the 1950s, India strongly supported decolonisation in Africa and Asia and played a leading role in the Non-Aligned Movement.\n",
      "Enter question: In the 1950s, what was the role played by India in decolonisation in Africa and Asia?\n",
      "\n",
      "Sentence 53: In the late 1980s, the Indian military twice intervened abroad at the invitation of the host country: a peace-keeping operation in Sri Lanka between 1987 and 1990; and an armed intervention to prevent a 1988 coup d'état attempt in the Maldives.\n",
      "Enter question: In which countries has the Indian military intervened at the invitation of a host country?\n",
      "\n",
      "Sentence 54: The nation has provided 100,000 military and police personnel to serve in 35 UN peacekeeping operations across four continents.\n",
      "Enter question: What was the nation provided to serve in 35 UN peacekeeping operations across four continents?\n",
      "\n",
      "Sentence 55: India conducted its first nuclear weapons test in 1974 and carried out additional underground testing in 1998.\n",
      "Enter question: When did India conduct its first nuclear weapons test and underground testing?\n",
      "\n",
      "Sentence 56: Other indigenous military projects involve the design and implementation of Vikrant-class aircraft carriers and Arihant-class nuclear submarines.\n",
      "Enter question: What are some other indigenous military projects in aircrafts and submarines?\n",
      "\n",
      "Sentence 57: As a consequence, India became the sixth de facto nuclear weapons state.\n",
      "Enter question: Which rank does India hold with respect to becoming a nuclear weapons state?\n",
      "\n",
      "Sentence 58: The official Indian defence budget for 2011 was US$36.03 billion, or 1.83% of GDP.\n",
      "Enter question: What was the official Indian defence budget for 2011?\n",
      "\n",
      "Sentence 59: As of 2012[update], India is the world's largest arms importer; between 2007 and 2011, it accounted for 10% of funds spent on international arms purchases.\n",
      "Enter question: India accounted for what percent of funds spent on international arms purchases between 2007 and 2011?\n",
      "\n",
      "Sentence 60: According to the International Monetary Fund (IMF), the Indian economy in 2019 was nominally worth $2.9 trillion; it is the fifth-largest economy by market exchange rates, and is around $11 trillion, the third-largest by purchasing power parity, or PPP.\n",
      "Enter question: According to the International Monetary Fund (IMF), the Indian economy in 2019 was nominally worth how much?\n",
      "\n",
      "Sentence 61: Widespread state intervention and regulation largely walled the economy off from the outside world.\n",
      "Enter question: What factors walled the economy off from the outside world?\n",
      "\n",
      "Sentence 62: The service sector makes up 55.6% of GDP, the industrial sector 26.3% and the agricultural sector 18.1%.\n",
      "Enter question: How is the GDP distribution with respect to the service sector, industrial sector and agricultural sector?\n",
      "\n",
      "Sentence 63: In 2006, the share of external trade in India's GDP stood at 24%, up from 6% in 1985.\n",
      "Enter question:  In 2006, the share of external trade in India's GDP was what percent?\n",
      "\n",
      "Sentence 64: Between 2001 and 2011, the contribution of petrochemical and engineering goods to total exports grew from 14% to 42%.\n"
     ]
    },
    {
     "name": "stdout",
     "output_type": "stream",
     "text": [
      "Enter question: Between 2001 and 2011, the contribution of petrochemical and engineering goods to total exports grew by what percent?\n",
      "\n",
      "Sentence 65: Though ranking 51st in global competitiveness, as of 2010[update], India ranks 17th in financial market sophistication, 24th in the banking sector, 44th in business sophistication, and 39th in innovation, ahead of several advanced economies.\n",
      "Enter question: What is the ranking of India in global competitiveness, financial market sophistication, banking sector, business sophistication and innovation?\n",
      "\n",
      "Sentence 66: It is expected to grow to US$2,358 by 2020.\n",
      "Enter question: By how much is it expected to grow by 2020?\n",
      "\n",
      "Sentence 67: During the next four decades, Indian GDP is expected to grow at an annualised average of 8%, making it potentially the world's fastest-growing major economy until 2050.\n",
      "Enter question: During the next four decades, Indian GDP is expected to grow at what annualised average?\n",
      "\n",
      "Sentence 68: India's telecommunication industry, the world's fastest-growing, added 227 million subscribers during the period 2010–2011, and after the third quarter of 2017, India surpassed the US to become the second largest smartphone market in the world after China.\n",
      "Enter question: When did India surpass the US to become the second largest smartphone market in the world after China?\n",
      "\n",
      "Sentence 69: The pharmaceutical industry in India is among the significant emerging markets for the global pharmaceutical industry.\n",
      "Enter question: Which industry in India is among the significant emerging markets for the global pharmaceutical industry?\n",
      "\n",
      "Sentence 70: The Indian biotech industry grew by 15.1% in 2012–2013, increasing its revenues from ₹204.4 billion (Indian rupees) to ₹235.24 billion (US$3.94 billion at June 2013 exchange rates).\n",
      "Enter question: The Indian biotech industry grew by what amount in 2012-2013?\n",
      "\n",
      "Sentence 71: Under the World Bank's later revised poverty line, it was 21% in 2011.\n",
      "Enter question: Where was India as per the World Bank's later revised poverty line?\n",
      "\n",
      "Sentence 72: According to a 2016 Walk Free Foundation report there were an estimated 18.3 million people in India, or 1.4% of the population, living in the forms of modern slavery, such as bonded labour, child labour, human trafficking, and forced begging, among others.\n",
      "Enter question: What percent of the people or population in India lived in the forms of modern slavery such bonded labour in 2016?\n",
      "\n",
      "Sentence 73: According to the Corruption Perceptions Index, India ranked 78th out of 180 countries in 2018 with a score of 41 out of 100, an improvement from 85th in 2014.\n",
      "Enter question: How does India rank in the Corruption Perceptions Index?\n",
      "\n",
      "Sentence 74: The median age was 27.6 as of 2016[update].\n",
      "Enter question: What was the median age of Indians as of 2016?\n",
      "\n",
      "Sentence 75: There are around 50 physicians per 100,000 Indians.\n",
      "Enter question: How many physicians are there per 100,000 Indians?\n",
      "\n",
      "Sentence 76: The level of urbanisation increased further from 27.81% in the 2001 Census to 31.16% in the 2011 Census.\n",
      "Enter question: By how much did the level of urbanisation increase from the 2001 Census to the 2011 Census?\n",
      "\n",
      "Sentence 77: The rural-urban literacy gap, which was 21.2 percentage points in 2001, dropped to 16.1 percentage points in 2011.\n",
      "Enter question: From 2001 to 2011, how did the rural-urban literacy gap perform?\n",
      "\n",
      "Sentence 78: Other languages spoken in India come from the Austroasiatic and Sino-Tibetan language families.\n",
      "Enter question: From what families do the other languages spoken in India come from?\n",
      "\n",
      "Sentence 79: Each state and union territory has one or more official languages, and the constitution recognises in particular 22 \"scheduled languages\".\n",
      "Enter question: How many scheduled languages does the constitution recognise?\n",
      "\n",
      "Sentence 80: During the Vedic period (c. 1700 – c. 500 BCE), the foundations of Hindu philosophy, mythology, theology and literature were laid, and many beliefs and practices which still exist today, such as dhárma, kárma, yóga, and mokṣa, were established.\n",
      "Enter question: When were the foundations of Hindu philosophy, mythology such as dharma, karma established?\n",
      "\n",
      "Sentence 81: Vernacular architecture is also regional in its flavours.\n",
      "Enter question: How does vernacular architecture exist in India?\n",
      "\n",
      "Sentence 82: Indo-Saracenic Revival architecture, developed by the British in the late 19th century, drew on Indo-Islamic architecture.\n",
      "Enter question: Which architecture  developed by the British drew on Indo-Islamic architecture?\n",
      "\n",
      "Sentence 83: From the 14th to the 18th centuries, India's literary traditions went through a period of drastic change because of the emergence of devotional poets like Kabīr, Tulsīdās, and Guru Nānak.\n",
      "Enter question: When and why did India's literary traditions go through a period of drastic change?\n",
      "\n",
      "Sentence 84: Indian music ranges over various traditions and regional styles.\n",
      "Enter question: What is the range of Indian music?\n",
      "\n",
      "Sentence 85: Among the better-known folk dances are: the bhangra of Punjab, the bihu of Assam, the Jhumair and chhau of Jharkhand, Odisha and West Bengal, garba and dandiya of Gujarat, ghoomar of Rajasthan, and the lavani of Maharashtra.\n",
      "Enter question: Which are the better-known folk dances of each state in India?\n",
      "\n",
      "Sentence 86: Often based on Hindu mythology, but also borrowing from medieval romances or social and political events, Indian theatre includes: the bhavai of Gujarat, the jatra of West Bengal, the nautanki and ramlila of North India, tamasha of Maharashtra, burrakatha of Andhra Pradesh, terukkuttu of Tamil Nadu, and the yakshagana of Karnataka.\n",
      "Enter question: What are the characteristics of India theatres which borrow from medieval romances or social and political events?\n",
      "\n",
      "Sentence 87: The Hindi language film industry (Bollywood) is the largest sector representing 43% of box office revenue, followed by the South Indian Telugu and Tamil film industries which represent 36% combined.\n",
      "Enter question: In the Indian film industry, which is the largest sector representing box office revenue?\n",
      "\n",
      "Sentence 88: Today, television is the most penetrative media in India; industry estimates indicate that as of 2012[update] there are over 554 million TV consumers, 462 million with satellite or cable connections compared to other forms of mass media such as the press (350 million), radio (156 million) or internet (37 million).\n",
      "Enter question: Which is the most penetrative media in India and how many consumers does it have?\n",
      "\n",
      "Sentence 89: India declared untouchability to be illegal in 1947 and has since enacted other anti-discriminatory laws and social welfare initiatives.\n",
      "Enter question: When did India declare untouchability to be illegal?\n",
      "\n",
      "Sentence 90: Marriage is thought to be for life, and the divorce rate is extremely low, with less than one in a thousand marriages ending in divorce.\n",
      "Enter question: What are the views in terms of marriage and divorce and what is the divorce rate in India?\n",
      "\n",
      "Sentence 91: Despite a government ban on sex-selective foeticide, the practice remains commonplace in India, the result of a preference for boys in a patriarchal society.\n",
      "Enter question: What practice remains commonplace in India despite a government ban on sex-selective foeticide?\n",
      "\n",
      "Sentence 92: The best known include: Diwali, Ganesh Chaturthi, Thai Pongal, Holi, Durga Puja, Eid ul-Fitr, Bakr-Id, Christmas, and Vaisakhi.\n",
      "Enter question: Along with Diwali, Christmas, which are India's best known festivals\n",
      "\n",
      "Sentence 93: In its more modern form, it has been used to cover the head, and sometimes the face, as a veil.\n",
      "Enter question: What has been used to cover the head and face as a veil?\n",
      "\n",
      "Sentence 94: In south India, it is usually wrapped around the lower body, the upper end tucked in the waistband, the lower left free.\n",
      "Enter question: Where is it usually wrapped around the lower body?\n",
      "\n",
      "Sentence 95: The arrival of the Kushans from Central Asia, circa 48 CE, popularised cut and sewn garments in the style of Central Asian favoured by the elite in northern India.\n",
      "Enter question: Whose arrival popularised cut and sewn garments in the style of Central Asian which are favoured by the elite in north India?\n"
     ]
    },
    {
     "name": "stdout",
     "output_type": "stream",
     "text": [
      "\n",
      "Sentence 96: Shalwars are atypically wide at the waist but narrow to a cuffed bottom.\n",
      "Enter question: What are Shalwars?\n",
      "\n",
      "Sentence 97: The side seams are left open below the waist-line,), which gives the wearer greater freedom of movement.\n",
      "Enter question: What gives the wearer of this cloth a greater freedom of movement?\n",
      "\n",
      "Sentence 98: A kurta, which traces its roots to Central Asian nomadic tunics, has evolved stylistically in India as a garment for everyday wear as well as for formal occasions.\n",
      "Enter question: How has a kurta, which traces its roots to Central Asia, evolved in India and on what occasions is it worn?\n",
      "\n",
      "Sentence 99: Increasingly, in urban settings in northern India, the sari is no longer the apparel of everyday wear, transformed instead into one for formal occasions.\n",
      "Enter question: In urban settings in northern India, what is the apparel for formal occasions?\n"
     ]
    }
   ],
   "source": [
    "for i, sent in enumerate(val_article_sentences):\n",
    "    val_answers[i] = sent\n",
    "    print('\\nSentence {}: {}'.format(i, sent))\n",
    "    ques = input('Enter question: ')\n",
    "    val_questions[i] = ques"
   ]
  },
  {
   "cell_type": "code",
   "execution_count": 46,
   "metadata": {},
   "outputs": [
    {
     "data": {
      "text/plain": [
       "100"
      ]
     },
     "execution_count": 46,
     "metadata": {},
     "output_type": "execute_result"
    }
   ],
   "source": [
    "len(val_questions)"
   ]
  },
  {
   "cell_type": "code",
   "execution_count": 48,
   "metadata": {},
   "outputs": [
    {
     "data": {
      "text/plain": [
       "100"
      ]
     },
     "execution_count": 48,
     "metadata": {},
     "output_type": "execute_result"
    }
   ],
   "source": [
    "len(val_answers)"
   ]
  },
  {
   "cell_type": "code",
   "execution_count": 49,
   "metadata": {},
   "outputs": [],
   "source": [
    "import json\n",
    "\n",
    "with open('val_questions.json', 'w') as fp:\n",
    "    json.dump(val_questions, fp)\n",
    "    \n",
    "with open('val_answers.json', 'w') as fp:\n",
    "    json.dump(val_questions, fp)"
   ]
  },
  {
   "cell_type": "code",
   "execution_count": null,
   "metadata": {},
   "outputs": [],
   "source": []
  },
  {
   "cell_type": "code",
   "execution_count": 37,
   "metadata": {},
   "outputs": [],
   "source": [
    "# these functions are heavily influenced by the HF squad_metrics.py script\n",
    "def normalize_text(s):\n",
    "    \"\"\"Removing articles and punctuation, and standardizing whitespace are all typical text processing steps.\"\"\"\n",
    "    import string, re\n",
    "\n",
    "    def remove_articles(text):\n",
    "        regex = re.compile(r\"\\b(a|an|the)\\b\", re.UNICODE)\n",
    "        return re.sub(regex, \" \", text)\n",
    "\n",
    "    def white_space_fix(text):\n",
    "        return \" \".join(text.split())\n",
    "\n",
    "    def remove_punc(text):\n",
    "        exclude = set(string.punctuation)\n",
    "        return \"\".join(ch for ch in text if ch not in exclude)\n",
    "\n",
    "    def lower(text):\n",
    "        return text.lower()\n",
    "\n",
    "    return white_space_fix(remove_articles(remove_punc(lower(s))))\n",
    "\n",
    "def compute_exact_match(prediction, truth):\n",
    "    return int(normalize_text(prediction) == normalize_text(truth))\n",
    "\n",
    "def compute_f1(prediction, truth):\n",
    "    pred_tokens = normalize_text(prediction).split()\n",
    "    truth_tokens = normalize_text(truth).split()\n",
    "    print(pred_tokens)\n",
    "    print(truth_tokens)\n",
    "    \n",
    "    # if either the prediction or the truth is no-answer then f1 = 1 if they agree, 0 otherwise\n",
    "    if len(pred_tokens) == 0 or len(truth_tokens) == 0:\n",
    "        return int(pred_tokens == truth_tokens)\n",
    "    \n",
    "    common_tokens = set(pred_tokens) & set(truth_tokens)\n",
    "    \n",
    "    # if there are no common tokens then f1 = 0\n",
    "    if len(common_tokens) == 0:\n",
    "        return 0\n",
    "    print(common_tokens)\n",
    "    prec = len(common_tokens) / len(pred_tokens)\n",
    "    rec = len(common_tokens) / len(truth_tokens)\n",
    "    \n",
    "    return 2 * (prec * rec) / (prec + rec)"
   ]
  },
  {
   "cell_type": "code",
   "execution_count": 38,
   "metadata": {},
   "outputs": [],
   "source": [
    "pred = 'The ancient Greeks referred to the Indians as Indoi (Ἰνδοί), which translates as \"The people of the Indus\".'"
   ]
  },
  {
   "cell_type": "code",
   "execution_count": 39,
   "metadata": {},
   "outputs": [],
   "source": [
    "truth = 'The ancient Greeks referred to the Indians as Indoi (Ἰνδοί), which translates as \"The people of the Indus\".'"
   ]
  },
  {
   "cell_type": "code",
   "execution_count": 40,
   "metadata": {},
   "outputs": [
    {
     "name": "stdout",
     "output_type": "stream",
     "text": [
      "['ancient', 'greeks', 'referred', 'to', 'indians', 'as', 'indoi', 'ἰνδοί', 'which', 'translates', 'as', 'people', 'of', 'indus']\n",
      "['ancient', 'greeks', 'referred', 'to', 'indians', 'as', 'indoi', 'ἰνδοί', 'which', 'translates', 'as', 'people', 'of', 'indus']\n",
      "{'ancient', 'translates', 'which', 'to', 'people', 'ἰνδοί', 'referred', 'as', 'indus', 'indoi', 'of', 'greeks', 'indians'}\n"
     ]
    },
    {
     "data": {
      "text/plain": [
       "0.9285714285714286"
      ]
     },
     "execution_count": 40,
     "metadata": {},
     "output_type": "execute_result"
    }
   ],
   "source": [
    "compute_f1(pred, truth)"
   ]
  },
  {
   "cell_type": "code",
   "execution_count": 41,
   "metadata": {},
   "outputs": [
    {
     "data": {
      "text/plain": [
       "1"
      ]
     },
     "execution_count": 41,
     "metadata": {},
     "output_type": "execute_result"
    }
   ],
   "source": [
    "compute_exact_match(pred, truth)"
   ]
  },
  {
   "cell_type": "code",
   "execution_count": null,
   "metadata": {},
   "outputs": [],
   "source": []
  }
 ],
 "metadata": {
  "kernelspec": {
   "display_name": "Python 3",
   "language": "python",
   "name": "python3"
  },
  "language_info": {
   "codemirror_mode": {
    "name": "ipython",
    "version": 3
   },
   "file_extension": ".py",
   "mimetype": "text/x-python",
   "name": "python",
   "nbconvert_exporter": "python",
   "pygments_lexer": "ipython3",
   "version": "3.7.6"
  }
 },
 "nbformat": 4,
 "nbformat_minor": 4
}
