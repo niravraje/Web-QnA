{
 "cells": [
  {
   "cell_type": "code",
   "execution_count": 53,
   "metadata": {},
   "outputs": [],
   "source": [
    "import itertools\n",
    "import time\n",
    "import string\n",
    "import math\n",
    "from random import randint\n",
    "import matplotlib.pyplot as plt\n",
    "import numpy as np\n",
    "import scipy as sp\n",
    "import urllib.request\n",
    "import nltk\n",
    "import re\n",
    "from bs4 import BeautifulSoup\n",
    "from collections import defaultdict\n",
    "from sklearn.metrics.pairwise import cosine_similarity"
   ]
  },
  {
   "cell_type": "code",
   "execution_count": 54,
   "metadata": {},
   "outputs": [],
   "source": [
    "def clean_sentence(sentence):\n",
    "    \"\"\"Convert each sentence into lower case. \n",
    "    Extract English alphabets.\n",
    "    Remove extra spaces.\n",
    "    Strip leading/trailing whitespaces.\n",
    "    \"\"\"\n",
    "    sentence = sentence.lower()\n",
    "    sentence = re.sub(r'[^A-Za-z]', ' ', sentence)\n",
    "    sentence = re.sub(r'\\s+', ' ', sentence)\n",
    "    sentence = sentence.strip()\n",
    "    return sentence"
   ]
  },
  {
   "cell_type": "markdown",
   "metadata": {},
   "source": [
    "### Fetch the article text"
   ]
  },
  {
   "cell_type": "code",
   "execution_count": 55,
   "metadata": {},
   "outputs": [],
   "source": [
    "url = 'https://en.wikipedia.org/wiki/India'"
   ]
  },
  {
   "cell_type": "code",
   "execution_count": 56,
   "metadata": {},
   "outputs": [],
   "source": [
    "# Scrape article using bs4 to extract all paragraphs from the online article.\n",
    "raw_html = urllib.request.urlopen(url)\n",
    "raw_html = raw_html.read()\n",
    "\n",
    "article_html = BeautifulSoup(raw_html, 'lxml')\n",
    "article_paragraphs = article_html.find_all('p')"
   ]
  },
  {
   "cell_type": "code",
   "execution_count": 57,
   "metadata": {},
   "outputs": [],
   "source": [
    "# Creating a document 'article_text' containing all the sentences in the article.\n",
    "article_text = ''\n",
    "for para in article_paragraphs:\n",
    "    article_text += para.text"
   ]
  },
  {
   "cell_type": "code",
   "execution_count": 58,
   "metadata": {},
   "outputs": [],
   "source": [
    "# Tokenize article text into sentences.\n",
    "article_sentences = nltk.sent_tokenize(article_text)"
   ]
  },
  {
   "cell_type": "markdown",
   "metadata": {},
   "source": [
    "### Preprocess sentences for InferSent encodings"
   ]
  },
  {
   "cell_type": "code",
   "execution_count": 59,
   "metadata": {},
   "outputs": [
    {
     "data": {
      "text/plain": [
       "['India, officially the Republic of India (Hindi: Bhārat Gaṇarājya), is a country in South Asia.',\n",
       " 'It is the second-most populous country, the seventh-largest country by area, and the most populous democracy in the world.',\n",
       " 'Bounded by the Indian Ocean on the south, the Arabian Sea on the southwest, and the Bay of Bengal on the southeast, it shares land borders with Pakistan to the west; China, Nepal, and Bhutan to the north; and Bangladesh and Myanmar to the east.',\n",
       " 'In the Indian Ocean, India is in the vicinity of Sri Lanka and the Maldives; its Andaman and Nicobar Islands share a maritime border with Thailand and Indonesia.',\n",
       " 'Modern humans arrived on the Indian subcontinent from Africa no later than 55,000 years ago.']"
      ]
     },
     "execution_count": 59,
     "metadata": {},
     "output_type": "execute_result"
    }
   ],
   "source": [
    "# Clean the article sentence to remove extra whitespaces and reference numbers (such as \"[23]\")\n",
    "\n",
    "for i in range(len(article_sentences)):\n",
    "    article_sentences[i] = re.sub(r'\\[\\d+\\]', '', article_sentences[i])\n",
    "    article_sentences[i] = re.sub(r'\\[\\w\\]', '', article_sentences[i])\n",
    "    article_sentences[i] = re.sub(r'\\s+', ' ', article_sentences[i]).strip()\n",
    "article_sentences[:5]"
   ]
  },
  {
   "cell_type": "markdown",
   "metadata": {},
   "source": [
    "### Implementation of InferSent Sentence Encoder"
   ]
  },
  {
   "cell_type": "code",
   "execution_count": 60,
   "metadata": {},
   "outputs": [
    {
     "name": "stdout",
     "output_type": "stream",
     "text": [
      "The autoreload extension is already loaded. To reload it, use:\n",
      "  %reload_ext autoreload\n"
     ]
    }
   ],
   "source": [
    "# import stuff\n",
    "%load_ext autoreload\n",
    "%autoreload 2\n",
    "%matplotlib inline\n",
    "\n",
    "from random import randint\n",
    "\n",
    "import numpy as np\n",
    "import torch"
   ]
  },
  {
   "cell_type": "markdown",
   "metadata": {},
   "source": [
    "### Load the model:\n",
    "Load infersent model (version 1) which has been trained on GloVe embeddings"
   ]
  },
  {
   "cell_type": "code",
   "execution_count": 61,
   "metadata": {},
   "outputs": [
    {
     "data": {
      "text/plain": [
       "<All keys matched successfully>"
      ]
     },
     "execution_count": 61,
     "metadata": {},
     "output_type": "execute_result"
    }
   ],
   "source": [
    "# Load model\n",
    "from models import InferSent\n",
    "model_version = 1\n",
    "MODEL_PATH = \"InferSent/encoder/infersent%s.pkl\" % model_version\n",
    "params_model = {'bsize': 64, 'word_emb_dim': 300, 'enc_lstm_dim': 2048,\n",
    "                'pool_type': 'max', 'dpout_model': 0.0, 'version': model_version}\n",
    "model = InferSent(params_model)\n",
    "model.load_state_dict(torch.load(MODEL_PATH))"
   ]
  },
  {
   "cell_type": "markdown",
   "metadata": {},
   "source": [
    "### Set the GloVe directory path"
   ]
  },
  {
   "cell_type": "code",
   "execution_count": 62,
   "metadata": {},
   "outputs": [],
   "source": [
    "W2V_PATH = '../word_vectors/glove/glove.6B.300d.txt'\n",
    "model.set_w2v_path(W2V_PATH)"
   ]
  },
  {
   "cell_type": "code",
   "execution_count": 63,
   "metadata": {},
   "outputs": [
    {
     "name": "stdout",
     "output_type": "stream",
     "text": [
      "Vocab size : 100000\n"
     ]
    }
   ],
   "source": [
    "# Load embeddings of K most frequent words\n",
    "model.build_vocab_k_words(K=100000)"
   ]
  },
  {
   "cell_type": "code",
   "execution_count": 64,
   "metadata": {},
   "outputs": [
    {
     "data": {
      "text/plain": [
       "444"
      ]
     },
     "execution_count": 64,
     "metadata": {},
     "output_type": "execute_result"
    }
   ],
   "source": [
    "# Number of article sentences to be encoded:\n",
    "len(article_sentences)"
   ]
  },
  {
   "cell_type": "markdown",
   "metadata": {},
   "source": [
    "### Encode sentences\n",
    "* CPU Speed: ~100 sentences/sec\n",
    "* GPU Speed: ~1000 sentences/sec"
   ]
  },
  {
   "cell_type": "code",
   "execution_count": 65,
   "metadata": {
    "scrolled": true
   },
   "outputs": [
    {
     "name": "stdout",
     "output_type": "stream",
     "text": [
      "Nb words kept : 7296/11308 (64.5%)\n",
      "Speed : 44.3 sentences/s (cpu mode, bsize=128)\n",
      "nb sentences encoded : 444\n"
     ]
    }
   ],
   "source": [
    "embeddings = model.encode(article_sentences, bsize=128, tokenize=False, verbose=True)\n",
    "print('nb sentences encoded : {0}'.format(len(embeddings)))"
   ]
  },
  {
   "cell_type": "code",
   "execution_count": 66,
   "metadata": {},
   "outputs": [
    {
     "data": {
      "text/plain": [
       "array([[0.09396838, 0.07308353, 0.04056723, ..., 0.01159299, 0.        ,\n",
       "        0.05563534],\n",
       "       [0.04758248, 0.03204281, 0.0495721 , ..., 0.00389264, 0.        ,\n",
       "        0.02492008]], dtype=float32)"
      ]
     },
     "execution_count": 66,
     "metadata": {},
     "output_type": "execute_result"
    }
   ],
   "source": [
    "embeddings[:2]"
   ]
  },
  {
   "cell_type": "code",
   "execution_count": 67,
   "metadata": {},
   "outputs": [
    {
     "data": {
      "text/plain": [
       "(444, 4096)"
      ]
     },
     "execution_count": 67,
     "metadata": {},
     "output_type": "execute_result"
    }
   ],
   "source": [
    "embeddings.shape"
   ]
  },
  {
   "cell_type": "markdown",
   "metadata": {},
   "source": [
    "### Exploring cosine similarity between any 2 sentences in the article\n",
    "Note: model.visualize(article_sentences[randint(0, len(article_sentences))]) throws an error"
   ]
  },
  {
   "cell_type": "code",
   "execution_count": 68,
   "metadata": {},
   "outputs": [],
   "source": [
    "def cosine(u, v):\n",
    "    return np.dot(u, v) / (np.linalg.norm(u) * np.linalg.norm(v))\n",
    "\n",
    "def euclidean_dist(u, v):\n",
    "    return math.sqrt(sum([(a - b) ** 2 for a, b in zip(u, v)]))"
   ]
  },
  {
   "cell_type": "code",
   "execution_count": 69,
   "metadata": {
    "scrolled": true
   },
   "outputs": [
    {
     "name": "stdout",
     "output_type": "stream",
     "text": [
      "Sentence 1:\n",
      "The slowing down of the overall population growth rate was due to the sharp decline in the growth rate in rural areas since 1991.\n",
      "\n",
      "Sentence 2:\n",
      "India's population grew from 361 million in 1951 to 1,211 million in 2011.\n",
      "\n",
      "Cosine similarity = 0.8757166266441345\n",
      "Euclidean Distance = 3.1579269054877543\n"
     ]
    }
   ],
   "source": [
    "random_sent1 = article_sentences[randint(0, len(article_sentences))]\n",
    "random_sent2 = article_sentences[randint(0, len(article_sentences))]\n",
    "\n",
    "cosine_sim = cosine(model.encode([random_sent1])[0], model.encode([random_sent2])[0])\n",
    "euclidean_d_value = euclidean_dist(model.encode([random_sent1])[0], model.encode([random_sent2])[0])\n",
    "\n",
    "print(\"Sentence 1:\\n{0}\\n\\nSentence 2:\\n{1}\\n\".format(random_sent1, random_sent2))\n",
    "print(\"Cosine similarity = {0}\\nEuclidean Distance = {1}\".format(cosine_sim, euclidean_d_value))"
   ]
  },
  {
   "cell_type": "markdown",
   "metadata": {},
   "source": [
    "# Single Vector Approach - Cosine Similarity"
   ]
  },
  {
   "cell_type": "markdown",
   "metadata": {},
   "source": [
    "Encoding the question"
   ]
  },
  {
   "cell_type": "code",
   "execution_count": 70,
   "metadata": {},
   "outputs": [],
   "source": [
    "def get_most_similar_sentences(question_vector, sent_count):\n",
    "    \"\"\"Returns the most similar sentences to the question vector.\n",
    "    Similarity Coefficient used: Cosine Index\n",
    "    Sentence count refers to number of most similar sentences to be returned.\n",
    "    \"\"\"\n",
    "    most_sim_sentences = []\n",
    "    for sent_index, sent_vector in enumerate(embeddings):\n",
    "        most_sim_sentences.append((sent_index, cosine(question_vector, sent_vector))) # appending a tuple\n",
    "    most_sim_sentences.sort(key = lambda x: x[1], reverse = True)\n",
    "    if sent_count <= len(embeddings):\n",
    "        return most_sim_sentences[:sent_count]\n",
    "    else:\n",
    "        print('Enter value less than or equal to {0}'.format(len(embeddings)))"
   ]
  },
  {
   "cell_type": "markdown",
   "metadata": {},
   "source": [
    "### Q1"
   ]
  },
  {
   "cell_type": "code",
   "execution_count": 71,
   "metadata": {
    "scrolled": true
   },
   "outputs": [
    {
     "name": "stdout",
     "output_type": "stream",
     "text": [
      "Nb words kept : 5/9 (55.6%)\n",
      "Speed : 25.7 sentences/s (cpu mode, bsize=128)\n",
      "Question vector: [ 0.04600282  0.15134372 -0.04607344 ...  0.0321859  -0.02943331\n",
      "  0.05108219]\n",
      "nb sentences encoded : 1\n"
     ]
    }
   ],
   "source": [
    "question = 'Which are the neighbouring countries to India?'\n",
    "question = [question]\n",
    "question_vector = model.encode(question, bsize=128, tokenize=False, verbose=True)[0]\n",
    "print('Question vector: {0}'.format(question_vector))\n",
    "print('nb sentences encoded : {0}'.format(len(question)))"
   ]
  },
  {
   "cell_type": "markdown",
   "metadata": {},
   "source": [
    "Get 5 most similar sentences"
   ]
  },
  {
   "cell_type": "code",
   "execution_count": 72,
   "metadata": {
    "scrolled": true
   },
   "outputs": [
    {
     "name": "stdout",
     "output_type": "stream",
     "text": [
      "[(76, 0.8174522), (266, 0.81478786), (292, 0.8134547), (2, 0.79972047), (210, 0.7997021)]\n"
     ]
    }
   ],
   "source": [
    "most_sim_sentences = get_most_similar_sentences(question_vector, 5)\n",
    "print(most_sim_sentences)"
   ]
  },
  {
   "cell_type": "markdown",
   "metadata": {},
   "source": [
    "Print the most similar sentences"
   ]
  },
  {
   "cell_type": "code",
   "execution_count": 73,
   "metadata": {},
   "outputs": [
    {
     "name": "stdout",
     "output_type": "stream",
     "text": [
      "Sentence Index 76, Similarity Score = 0.8174521923065186:\n",
      "They were imitated all over India and led to both the resurgence of Hinduism and the development of all modern languages of the subcontinent.\n",
      "\n",
      "Sentence Index 266, Similarity Score = 0.8147878646850586:\n",
      "However, it has remained lower than those of other Asian developing countries like Indonesia, Malaysia, Philippines, Sri Lanka, and Thailand, and is expected to remain so in the near future.\n",
      "\n",
      "Sentence Index 292, Similarity Score = 0.8134546875953674:\n",
      "Corruption in India is perceived to have decreased.\n",
      "\n",
      "Sentence Index 2, Similarity Score = 0.7997204661369324:\n",
      "Bounded by the Indian Ocean on the south, the Arabian Sea on the southwest, and the Bay of Bengal on the southeast, it shares land borders with Pakistan to the west; China, Nepal, and Bhutan to the north; and Bangladesh and Myanmar to the east.\n",
      "\n",
      "Sentence Index 210, Similarity Score = 0.7997021079063416:\n",
      "India has had tense relations with neighbouring Pakistan; the two nations have gone to war four times: in 1947, 1965, 1971, and 1999.\n",
      "\n"
     ]
    }
   ],
   "source": [
    "for sent_index, similarity_score in most_sim_sentences:\n",
    "    print('Sentence Index {}, Similarity Score = {}:\\n{}\\n'.format(sent_index, similarity_score,\n",
    "                                                                        article_sentences[sent_index]))"
   ]
  },
  {
   "cell_type": "markdown",
   "metadata": {},
   "source": [
    "### Q2"
   ]
  },
  {
   "cell_type": "code",
   "execution_count": 74,
   "metadata": {},
   "outputs": [
    {
     "name": "stdout",
     "output_type": "stream",
     "text": [
      "Nb words kept : 2/7 (28.6%)\n",
      "Speed : 47.7 sentences/s (cpu mode, bsize=128)\n",
      "Question vector: [ 0.12260894 -0.02809364 -0.06930935 ... -0.04209305 -0.0116544\n",
      " -0.00440081]\n",
      "nb sentences encoded : 1\n"
     ]
    }
   ],
   "source": [
    "question = 'Which sports does India play?'\n",
    "question = [question]\n",
    "question_vector = model.encode(question, bsize=128, tokenize=False, verbose=True)[0]\n",
    "print('Question vector: {0}'.format(question_vector))\n",
    "print('nb sentences encoded : {0}'.format(len(question)))"
   ]
  },
  {
   "cell_type": "code",
   "execution_count": 75,
   "metadata": {},
   "outputs": [
    {
     "name": "stdout",
     "output_type": "stream",
     "text": [
      "Sentence Index 436, Similarity Score = 0.6431796550750732:\n",
      "Cricket is the most popular sport in India.\n",
      "\n",
      "Sentence Index 434, Similarity Score = 0.6313523650169373:\n",
      "Other sports in which Indians have succeeded internationally include badminton (Saina Nehwal and P V Sindhu are two of the top-ranked female badminton players in the world), boxing, and wrestling.\n",
      "\n",
      "Sentence Index 428, Similarity Score = 0.6050891280174255:\n",
      "In India, several traditional indigenous sports remain fairly popular, such as kabaddi, kho kho, pehlwani and gilli-danda.\n",
      "\n",
      "Sentence Index 292, Similarity Score = 0.5923976898193359:\n",
      "Corruption in India is perceived to have decreased.\n",
      "\n",
      "Sentence Index 314, Similarity Score = 0.588301420211792:\n",
      "India has no national language.\n",
      "\n"
     ]
    }
   ],
   "source": [
    "most_sim_sentences = get_most_similar_sentences(question_vector, 5)\n",
    "for sent_index, similarity_score in most_sim_sentences:\n",
    "    print('Sentence Index {}, Similarity Score = {}:\\n{}\\n'.format(sent_index, similarity_score,\n",
    "                                                                        article_sentences[sent_index]))"
   ]
  },
  {
   "cell_type": "markdown",
   "metadata": {},
   "source": [
    "### Q3"
   ]
  },
  {
   "cell_type": "code",
   "execution_count": 76,
   "metadata": {},
   "outputs": [
    {
     "name": "stdout",
     "output_type": "stream",
     "text": [
      "Nb words kept : 5/12 (41.7%)\n",
      "Speed : 21.8 sentences/s (cpu mode, bsize=128)\n",
      "Question vector: [ 0.09767815  0.07293532 -0.00092746 ...  0.00389264 -0.03927635\n",
      "  0.02507453]\n",
      "nb sentences encoded : 1\n"
     ]
    }
   ],
   "source": [
    "question = 'Approximately how many Indians served in the First World War?'\n",
    "question = [question]\n",
    "question_vector = model.encode(question, bsize=128, tokenize=False, verbose=True)[0]\n",
    "print('Question vector: {0}'.format(question_vector))\n",
    "print('nb sentences encoded : {0}'.format(len(question)))"
   ]
  },
  {
   "cell_type": "code",
   "execution_count": 77,
   "metadata": {},
   "outputs": [
    {
     "name": "stdout",
     "output_type": "stream",
     "text": [
      "Sentence Index 336, Similarity Score = 0.8261755704879761:\n",
      "In the 20th century, Indian literature was influenced by the works of the Bengali poet and novelist Rabindranath Tagore, who was a recipient of the Nobel Prize in Literature.\n",
      "\n",
      "Sentence Index 215, Similarity Score = 0.8248085975646973:\n",
      "In recent years, it has played key roles in the South Asian Association for Regional Cooperation and the World Trade Organization.\n",
      "\n",
      "Sentence Index 76, Similarity Score = 0.82387375831604:\n",
      "They were imitated all over India and led to both the resurgence of Hinduism and the development of all modern languages of the subcontinent.\n",
      "\n",
      "Sentence Index 286, Similarity Score = 0.820573091506958:\n",
      "30.7% of India's children under the age of five are underweight.\n",
      "\n",
      "Sentence Index 105, Similarity Score = 0.8205209374427795:\n",
      "Technological changes—among them, railways, canals, and the telegraph—were introduced not long after their introduction in Europe.\n",
      "\n"
     ]
    }
   ],
   "source": [
    "most_sim_sentences = get_most_similar_sentences(question_vector, 5)\n",
    "for sent_index, similarity_score in most_sim_sentences:\n",
    "    print('Sentence Index {}, Similarity Score = {}:\\n{}\\n'.format(sent_index, similarity_score,\n",
    "                                                                        article_sentences[sent_index]))"
   ]
  },
  {
   "cell_type": "markdown",
   "metadata": {},
   "source": [
    "### Q4"
   ]
  },
  {
   "cell_type": "code",
   "execution_count": 78,
   "metadata": {},
   "outputs": [
    {
     "name": "stdout",
     "output_type": "stream",
     "text": [
      "Nb words kept : 5/10 (50.0%)\n",
      "Speed : 25.7 sentences/s (cpu mode, bsize=128)\n",
      "Question vector: [ 0.08511851  0.03973034  0.07982003 ...  0.00812555 -0.02943331\n",
      "  0.00681409]\n",
      "nb sentences encoded : 1\n"
     ]
    }
   ],
   "source": [
    "question = \"What did the greek refer to Indians as?\"\n",
    "question = [question]\n",
    "question_vector = model.encode(question, bsize=128, tokenize=False, verbose=True)[0]\n",
    "print('Question vector: {0}'.format(question_vector))\n",
    "print('nb sentences encoded : {0}'.format(len(question)))"
   ]
  },
  {
   "cell_type": "code",
   "execution_count": 79,
   "metadata": {
    "scrolled": true
   },
   "outputs": [
    {
     "name": "stdout",
     "output_type": "stream",
     "text": [
      "Sentence Index 189, Similarity Score = 0.781525194644928:\n",
      "In 1998, the BJP was able to form a successful coalition, the National Democratic Alliance (NDA).\n",
      "\n",
      "Sentence Index 88, Similarity Score = 0.7803148031234741:\n",
      "The resulting Mughal Empire did not stamp out the local societies it came to rule.\n",
      "\n",
      "Sentence Index 38, Similarity Score = 0.7792684435844421:\n",
      "The ancient Greeks referred to the Indians as Indoi (Ἰνδοί), which translates as \"The people of the Indus\".\n",
      "\n",
      "Sentence Index 336, Similarity Score = 0.7666915059089661:\n",
      "In the 20th century, Indian literature was influenced by the works of the Bengali poet and novelist Rabindranath Tagore, who was a recipient of the Nobel Prize in Literature.\n",
      "\n",
      "Sentence Index 185, Similarity Score = 0.764606237411499:\n",
      "The Congress, as the largest single party, was able to form a minority government led by P. V. Narasimha Rao.\n",
      "\n"
     ]
    }
   ],
   "source": [
    "most_sim_sentences = get_most_similar_sentences(question_vector, 5)\n",
    "for sent_index, similarity_score in most_sim_sentences:\n",
    "    print('Sentence Index {}, Similarity Score = {}:\\n{}\\n'.format(sent_index, similarity_score,\n",
    "                                                                        article_sentences[sent_index]))"
   ]
  },
  {
   "cell_type": "markdown",
   "metadata": {},
   "source": [
    "# Single Vector Approach - Euclidean Distance"
   ]
  },
  {
   "cell_type": "code",
   "execution_count": 80,
   "metadata": {},
   "outputs": [],
   "source": [
    "def get_most_similar_sentences2(question_vector, sent_count):\n",
    "    \"\"\"Returns the most similar sentences to the question vector.\n",
    "    Similarity Coefficient used: Euclidean Distance\n",
    "    Sentence count refers to number of most similar sentences to be returned.\n",
    "    \"\"\"\n",
    "    most_sim_sentences = []\n",
    "    for sent_index, sent_vector in enumerate(embeddings):\n",
    "        most_sim_sentences.append((sent_index, euclidean_dist(question_vector, sent_vector))) # appending a tuple\n",
    "    most_sim_sentences.sort(key = lambda x: x[1], reverse = False) # sort direction = ascending\n",
    "    if sent_count <= len(embeddings):\n",
    "        return most_sim_sentences[:sent_count]\n",
    "    else:\n",
    "        print('Enter value less than or equal to {0}'.format(len(embeddings)))"
   ]
  },
  {
   "cell_type": "markdown",
   "metadata": {},
   "source": [
    "### Q1"
   ]
  },
  {
   "cell_type": "code",
   "execution_count": 81,
   "metadata": {},
   "outputs": [
    {
     "name": "stdout",
     "output_type": "stream",
     "text": [
      "Nb words kept : 5/9 (55.6%)\n",
      "Speed : 22.3 sentences/s (cpu mode, bsize=128)\n",
      "Question vector: [ 0.04600282  0.15134372 -0.04607344 ...  0.0321859  -0.02943331\n",
      "  0.05108219]\n",
      "nb sentences encoded : 1\n"
     ]
    }
   ],
   "source": [
    "question = 'Which are the neighbouring countries to India?'\n",
    "question = [question]\n",
    "question_vector = model.encode(question, bsize=128, tokenize=False, verbose=True)[0]\n",
    "print('Question vector: {0}'.format(question_vector))\n",
    "print('nb sentences encoded : {0}'.format(len(question)))"
   ]
  },
  {
   "cell_type": "code",
   "execution_count": 82,
   "metadata": {},
   "outputs": [
    {
     "name": "stdout",
     "output_type": "stream",
     "text": [
      "[(292, 2.616865479370186), (231, 2.81859848188907), (105, 2.8372004735565755), (441, 2.867075943123696), (0, 2.867852769122867), (286, 2.8973789522246154), (288, 2.8990329862864406), (76, 2.901085336176588), (88, 2.9196340253435356), (192, 2.923212086390844)]\n"
     ]
    }
   ],
   "source": [
    "most_sim_sentences = get_most_similar_sentences2(question_vector, 10) # note the 2\n",
    "print(most_sim_sentences)"
   ]
  },
  {
   "cell_type": "code",
   "execution_count": 83,
   "metadata": {},
   "outputs": [
    {
     "name": "stdout",
     "output_type": "stream",
     "text": [
      "1. Sentence Index 292, Similarity Score = 2.616865479370186:\n",
      "Corruption in India is perceived to have decreased.\n",
      "\n",
      "2. Sentence Index 231, Similarity Score = 2.81859848188907:\n",
      "It comprises the Indian Army, the Indian Navy, the Indian Air Force, and the Indian Coast Guard.\n",
      "\n",
      "3. Sentence Index 105, Similarity Score = 2.8372004735565755:\n",
      "Technological changes—among them, railways, canals, and the telegraph—were introduced not long after their introduction in Europe.\n",
      "\n",
      "4. Sentence Index 441, Similarity Score = 2.867075943123696:\n",
      "India has traditionally been the dominant country at the South Asian Games.\n",
      "\n",
      "5. Sentence Index 0, Similarity Score = 2.867852769122867:\n",
      "India, officially the Republic of India (Hindi: Bhārat Gaṇarājya), is a country in South Asia.\n",
      "\n",
      "6. Sentence Index 286, Similarity Score = 2.8973789522246154:\n",
      "30.7% of India's children under the age of five are underweight.\n",
      "\n",
      "7. Sentence Index 288, Similarity Score = 2.8990329862864406:\n",
      "The Mid-Day Meal Scheme attempts to lower these rates.\n",
      "\n",
      "8. Sentence Index 76, Similarity Score = 2.901085336176588:\n",
      "They were imitated all over India and led to both the resurgence of Hinduism and the development of all modern languages of the subcontinent.\n",
      "\n",
      "9. Sentence Index 88, Similarity Score = 2.9196340253435356:\n",
      "The resulting Mughal Empire did not stamp out the local societies it came to rule.\n",
      "\n",
      "10. Sentence Index 192, Similarity Score = 2.923212086390844:\n",
      "It had the support of left-leaning parties and MPs who opposed the BJP.\n",
      "\n"
     ]
    }
   ],
   "source": [
    "i = 0\n",
    "for sent_index, similarity_score in most_sim_sentences:\n",
    "    i += 1\n",
    "    print('{}. Sentence Index {}, Similarity Score = {}:\\n{}\\n'.format(i, sent_index, similarity_score,\n",
    "                                                                        article_sentences[sent_index]))"
   ]
  },
  {
   "cell_type": "markdown",
   "metadata": {},
   "source": [
    "### Q2"
   ]
  },
  {
   "cell_type": "code",
   "execution_count": 84,
   "metadata": {},
   "outputs": [
    {
     "name": "stdout",
     "output_type": "stream",
     "text": [
      "Nb words kept : 5/10 (50.0%)\n",
      "Speed : 22.3 sentences/s (cpu mode, bsize=128)\n",
      "Question vector: [ 0.08511851  0.03973034  0.07982003 ...  0.00812555 -0.02943331\n",
      "  0.00681409]\n",
      "nb sentences encoded : 1\n"
     ]
    }
   ],
   "source": [
    "question = \"What did the greek refer to Indians as?\"\n",
    "question = [question]\n",
    "question_vector = model.encode(question, bsize=128, tokenize=False, verbose=True)[0]\n",
    "print('Question vector: {0}'.format(question_vector))\n",
    "print('nb sentences encoded : {0}'.format(len(question)))"
   ]
  },
  {
   "cell_type": "code",
   "execution_count": 85,
   "metadata": {},
   "outputs": [
    {
     "name": "stdout",
     "output_type": "stream",
     "text": [
      "[(189, 2.7467608431144472), (292, 2.8024677403507234), (231, 2.8146329034382664), (105, 2.8649385003500965), (288, 2.870283917018996), (88, 2.929868339817691), (369, 2.9465979080027984), (38, 2.998167030485304), (13, 3.00215764402905), (129, 3.0104089312894056)]\n"
     ]
    }
   ],
   "source": [
    "most_sim_sentences = get_most_similar_sentences2(question_vector, 10) # note the 2\n",
    "print(most_sim_sentences)"
   ]
  },
  {
   "cell_type": "code",
   "execution_count": 86,
   "metadata": {},
   "outputs": [
    {
     "name": "stdout",
     "output_type": "stream",
     "text": [
      "1. Sentence Index 189, Similarity Score = 2.7467608431144472:\n",
      "In 1998, the BJP was able to form a successful coalition, the National Democratic Alliance (NDA).\n",
      "\n",
      "2. Sentence Index 292, Similarity Score = 2.8024677403507234:\n",
      "Corruption in India is perceived to have decreased.\n",
      "\n",
      "3. Sentence Index 231, Similarity Score = 2.8146329034382664:\n",
      "It comprises the Indian Army, the Indian Navy, the Indian Air Force, and the Indian Coast Guard.\n",
      "\n",
      "4. Sentence Index 105, Similarity Score = 2.8649385003500965:\n",
      "Technological changes—among them, railways, canals, and the telegraph—were introduced not long after their introduction in Europe.\n",
      "\n",
      "5. Sentence Index 288, Similarity Score = 2.870283917018996:\n",
      "The Mid-Day Meal Scheme attempts to lower these rates.\n",
      "\n",
      "6. Sentence Index 88, Similarity Score = 2.929868339817691:\n",
      "The resulting Mughal Empire did not stamp out the local societies it came to rule.\n",
      "\n",
      "7. Sentence Index 369, Similarity Score = 2.9465979080027984:\n",
      "The best known include: Diwali, Ganesh Chaturthi, Thai Pongal, Holi, Durga Puja, Eid ul-Fitr, Bakr-Id, Christmas, and Vaisakhi.\n",
      "\n",
      "8. Sentence Index 38, Similarity Score = 2.998167030485304:\n",
      "The ancient Greeks referred to the Indians as Indoi (Ἰνδοί), which translates as \"The people of the Indus\".\n",
      "\n",
      "9. Sentence Index 13, Similarity Score = 3.00215764402905:\n",
      "In the early medieval era, Christianity, Islam, Judaism, and Zoroastrianism put down roots on India's southern and western coasts.\n",
      "\n",
      "10. Sentence Index 129, Similarity Score = 3.0104089312894056:\n",
      "Simultaneously, the vast Tethyan oceanic crust, to its northeast, began to subduct under the Eurasian Plate.\n",
      "\n"
     ]
    }
   ],
   "source": [
    "i = 0\n",
    "for sent_index, similarity_score in most_sim_sentences:\n",
    "    i += 1\n",
    "    print('{}. Sentence Index {}, Similarity Score = {}:\\n{}\\n'.format(i, sent_index, similarity_score,\n",
    "                                                                        article_sentences[sent_index]))"
   ]
  },
  {
   "cell_type": "markdown",
   "metadata": {},
   "source": [
    "# Clustering Approach - Euclidean Distance\n",
    "### Clustering similar sentences using K-means (standard sklearn algorithm, uses Euclidean distance)\n",
    "Todo: Implementation with cosine"
   ]
  },
  {
   "cell_type": "code",
   "execution_count": 87,
   "metadata": {},
   "outputs": [
    {
     "data": {
      "text/plain": [
       "numpy.ndarray"
      ]
     },
     "execution_count": 87,
     "metadata": {},
     "output_type": "execute_result"
    }
   ],
   "source": [
    "type(embeddings)"
   ]
  },
  {
   "cell_type": "code",
   "execution_count": 88,
   "metadata": {},
   "outputs": [],
   "source": [
    "from sklearn.cluster import KMeans\n",
    "X = embeddings"
   ]
  },
  {
   "cell_type": "code",
   "execution_count": 89,
   "metadata": {
    "scrolled": true
   },
   "outputs": [
    {
     "name": "stdout",
     "output_type": "stream",
     "text": [
      "[17  7 18  1 12  3 10 10  1  3 17  2 15  1 10  1  8  1 12 19  3  3 18 17\n",
      "  8 12  4  3  3 12  4 13  5 10 19 19  3  9  1 10 10 17  3  3  3  9 10 15\n",
      " 12 10  3 10  3  9 18 12  1 10  3 18  3  3 10 12 18 12  3  8 15 18 18 18\n",
      "  3  3 15  1  1 18 15 18 10 18  3  3 10 15  3 18 17  3 18  6 18 10  3  3\n",
      " 10  9 18  9 17  9 17  3  5 17  1 10 18  3  3  2  3  3  5 17 18  7  1 18\n",
      "  3 17 10 12  7  5  6  1  2 12 10 10  1 15  5  1 10  3  3 10 10 10 10 10\n",
      "  3  7  2  2 16  9  3 12  3  3 10 12 16  5 16 10  9 17 12  1 10 12  8 12\n",
      "  3  7  5  3  3 19  3 17  1 18  1 18 18 19 18 18 17 17  1 19  3 17 17 18\n",
      " 17 18 18 18  7  1 17  7  5 18  3  1 18 18 17  3 17  3  3 18 18 18 12 17\n",
      "  3  1  6 13 13  3 13 11 13  1 13 13 13 13 18  1 17 19  0  0 18  2 17 11\n",
      "  9  4 18  7 12  9 17 19  5  0  8  8  0  1 15  8  0  1  4  3 18 18 17 14\n",
      "  6 17  9 14  0  4  9  6  9 18  5  3  0 12  0 19  1  0 12  0 12 17  1  1\n",
      " 19  9  0  6 17 18  7  0 14 19 19  3  3 14  3  5 19  0  4  3  5  0  4 17\n",
      "  3  1 19  1  9  3 18 17 19 10 17  3 15 17  9 10  9  1  1 10  1 10 10  3\n",
      "  1 15 15 15  8  1 10  1  8 10  3  7 15 10 10  5 15  9 17 10  3  3  3  3\n",
      "  3  9  3  9  3  3  5 12  8  8 10 10 10  3  9 17 17 10  3  9  1 10  9 10\n",
      "  3 17  3  3 17  3  3  3  3 10  9  9 17 10 17 17 12 10 10 15 10  5  3 10\n",
      " 17  8  5  2  2  9 10 10  9 10  9  9  9 10  9 10  9  3 18  9 15  1  3 17\n",
      " 18  3 18  1 17 10 18  1 18 17 18  5]\n"
     ]
    }
   ],
   "source": [
    "# 20 clusters\n",
    "N_CLUSTERS = 20\n",
    "kmeans = KMeans(n_clusters=N_CLUSTERS, random_state=0).fit(X)\n",
    "print(kmeans.labels_)"
   ]
  },
  {
   "cell_type": "code",
   "execution_count": 90,
   "metadata": {
    "scrolled": true
   },
   "outputs": [
    {
     "data": {
      "text/plain": [
       "(20, 4096)"
      ]
     },
     "execution_count": 90,
     "metadata": {},
     "output_type": "execute_result"
    }
   ],
   "source": [
    "kmeans.cluster_centers_.shape"
   ]
  },
  {
   "cell_type": "code",
   "execution_count": 91,
   "metadata": {},
   "outputs": [
    {
     "name": "stdout",
     "output_type": "stream",
     "text": [
      "[[ 0 14]\n",
      " [ 1 40]\n",
      " [ 2  8]\n",
      " [ 3 79]\n",
      " [ 4  7]\n",
      " [ 5 17]\n",
      " [ 6  6]\n",
      " [ 7 10]\n",
      " [ 8 12]\n",
      " [ 9 33]\n",
      " [10 56]\n",
      " [11  2]\n",
      " [12 22]\n",
      " [13  9]\n",
      " [14  4]\n",
      " [15 16]\n",
      " [16  3]\n",
      " [17 44]\n",
      " [18 47]\n",
      " [19 15]]\n"
     ]
    }
   ],
   "source": [
    "unique, counts = np.unique(kmeans.labels_, return_counts=True)\n",
    "print(np.asarray((unique, counts)).T)"
   ]
  },
  {
   "cell_type": "code",
   "execution_count": 92,
   "metadata": {},
   "outputs": [
    {
     "data": {
      "image/png": "[encoded data removed]",
      "text/plain": [
       "<Figure size 432x288 with 1 Axes>"
      ]
     },
     "metadata": {
      "needs_background": "light"
     },
     "output_type": "display_data"
    }
   ],
   "source": [
    "plt.hist(kmeans.labels_, bins=list(range(1, N_CLUSTERS)))\n",
    "plt.xticks(np.arange(0, 21, step=1))\n",
    "plt.yticks(np.arange(0, 61, step=10))\n",
    "plt.title('Histogram of predicted cluster labels with standard k-means (euclidean distance)')\n",
    "plt.show()"
   ]
  },
  {
   "cell_type": "code",
   "execution_count": 93,
   "metadata": {},
   "outputs": [],
   "source": [
    "def show_cluster_sentences(cluster_label):\n",
    "    i = 0\n",
    "    print(\"Sentences in cluster {}\\n\".format(cluster_label))\n",
    "    for sent_index, label in enumerate(list(kmeans.labels_)):\n",
    "        if label == cluster_label:\n",
    "            i += 1\n",
    "            print(\"{}. {}\".format(i, article_sentences[sent_index]))"
   ]
  },
  {
   "cell_type": "code",
   "execution_count": 94,
   "metadata": {
    "scrolled": true
   },
   "outputs": [
    {
     "name": "stdout",
     "output_type": "stream",
     "text": [
      "Sentences in cluster 9\n",
      "\n",
      "1. According to the Oxford English Dictionary (Third Edition 2009), the name \"India\" is derived from the Classical Latin India, a reference to South Asia and an uncertain region to its east; and in turn derived successively from: Hellenistic Greek India ( Ἰνδία); ancient Greek Indos ( Ἰνδός); Old Persian Hindush, an eastern province of the Achaemenid empire; and ultimately its cognate, the Sanskrit Sindhu, or \"river,\" specifically the Indus river and, by implication, its well-settled southern basin.\n",
      "2. After 6500 BCE, evidence for domestication of food crops and animals, construction of permanent structures, and storage of agricultural surplus appeared in Mehrgarh and other sites in what is now Balochistan.\n",
      "3. In South India, a progression to sedentary life is indicated by the large number of megalithic monuments dating from this period, as well as by nearby traces of agriculture, irrigation tanks, and craft traditions.\n",
      "4. The East India Company's control of the seas, greater resources, and more advanced military training and technology led it to increasingly flex its military muscle and caused it to become attractive to a portion of the Indian elite; these factors were crucial in allowing the company to gain control over the Bengal region by 1765 and sideline the other European companies.\n",
      "5. India was then no longer exporting manufactured goods as it long had, but was instead supplying the British Empire with raw materials.\n",
      "6. By this time, with its economic power severely curtailed by the British parliament and having effectively been made an arm of British administration, the company began more consciously to enter non-economic arenas like education, social reform, and culture.\n",
      "7. India is a megadiverse country, a term employed for 17 countries which display high biological diversity and contain many species exclusively indigenous, or endemic, to them.\n",
      "8. Among the Indian subcontinent's notable indigenous trees are the astringent Azadirachta indica, or neem, which is widely used in rural Indian herbal medicine, and the luxuriant Ficus religiosa, or peepul, which is displayed on the ancient seals of Mohenjo-daro, and under which the Buddha is recorded in the Pali canon to have sought enlightenment, Many Indian species have descended from those of Gondwana, the southern supercontinent from which India separated more than 100 million years ago.\n",
      "9. According to the International Monetary Fund (IMF), the Indian economy in 2019 was nominally worth $2.9 trillion; it is the fifth-largest economy by market exchange rates, and is around $11 trillion, the third-largest by purchasing power parity, or PPP.\n",
      "10. An acute balance of payments crisis in 1991 forced the nation to liberalise its economy; since then it has moved slowly towards a free-market system by emphasising both foreign trade and direct investment inflows.\n",
      "11. However, it has remained lower than those of other Asian developing countries like Indonesia, Malaysia, Philippines, Sri Lanka, and Thailand, and is expected to remain so in the near future.\n",
      "12. The report highlights key growth factors: a young and rapidly growing working-age population; growth in the manufacturing sector because of rising education and engineering skill levels; and sustained growth of the consumer market driven by a rapidly growing middle-class.\n",
      "13. According to the Worldwide Cost of Living Report 2017 released by the Economist Intelligence Unit (EIU) which was created by comparing more than 400 individual prices across 160 products and services, four of the cheapest cities were in India: Bangalore (3rd), Mumbai (5th), Chennai (5th) and New Delhi (8th).\n",
      "14. According to a 2016 Walk Free Foundation report there were an estimated 18.3 million people in India, or 1.4% of the population, living in the forms of modern slavery, such as bonded labour, child labour, human trafficking, and forced begging, among others.\n",
      "15. English is used extensively in business and administration and has the status of a \"subsidiary official language\"; it is important in education, especially as a medium of higher education.\n",
      "16. Vastu shastra, literally \"science of construction\" or \"architecture\" and ascribed to Mamuni Mayan, explores how the laws of nature affect human dwellings; it employs precise geometry and directional alignments to reflect perceived cosmic constructs.\n",
      "17. The Taj Mahal, built in Agra between 1631 and 1648 by orders of Emperor Shah Jahan in memory of his wife, has been described in the UNESCO World Heritage List as \"the jewel of Muslim art in India and one of the universally admired masterpieces of the world's heritage\".\n",
      "18. Today, television is the most penetrative media in India; industry estimates indicate that as of 2012[update] there are over 554 million TV consumers, 462 million with satellite or cable connections compared to other forms of mass media such as the press (350 million), radio (156 million) or internet (37 million).\n",
      "19. Marriage is thought to be for life, and the divorce rate is extremely low, with less than one in a thousand marriages ending in divorce.\n",
      "20. Female infanticide in India, and lately female foeticide, have created skewed gender ratios; the number of missing women in the country quadrupled from 15 million to 63 million in the 50-year period ending in 2014, faster than the population growth during the same period, and constituting 20 percent of India's female electorate.\n",
      "21. It has been combined with an underskirt, or Indian petticoat, and tucked in the waist band for more secure fastening, It is also commonly worn with an Indian blouse, or choli, which serves as the primary upper-body garment, the sari's end, passing over the shoulder, now serving to obscure the upper body's contours, and to cover the midriff.\n",
      "22. Other forms of traditional apparel that involve no stitching or tailoring are the chaddar (a shawl worn by both sexes to cover the upper body during colder weather, or a large veil worn by women for framing the head, or covering it) and the pagri (a turban or a scarf worn around the head as a part of a tradition, or to keep off the sun or the cold).\n",
      "23. However, it was not until Muslim rule was established, first with the Delhi sultanate and then the Mughal Empire, that the range of stitched clothes in India grew and their use became significantly more widespread.\n",
      "24. It is traditionally made of cotton or silk; it is worn plain or with embroidered decoration, such as chikan; and it can be loose or tight in the torso, typically falling either just above or somewhere below the wearer's knees.\n",
      "25. The sleeves of a traditional kurta fall to the wrist without narrowing, the ends hemmed but not cuffed; the kurta can be worn by both men and women; it is traditionally collarless, though standing collars are increasingly popular; and it can be worn over ordinary pyjamas, loose shalwars, churidars, or less traditionally over jeans.\n",
      "26. Rice, which requires a lot of water, has been grown traditionally in regions of high rainfall in the northeast and the western coast, wheat in regions of moderate rainfall, like India's northern plains, and millet in regions of low rainfall, such as on the Deccan Plateau and in Rajasthan.\n",
      "27. In an actual meal, this mental representation takes the form of a platter, or thali, with a central place for the cooked cereal, peripheral ones, often in small bowls, for the flavourful accompaniments, and the simultaneous, rather than piecemeal, ingestion of the two in each act of eating, whether by actual mixing—for example of rice and lentils—or in the folding of one—such as bread—around the other, such as cooked vegetables.\n",
      "28. The appearance of ahimsa, or the avoidance of violence toward all forms of life in many religious orders early in Indian history, especially Upanishadic Hinduism, Buddhism and Jainism, is thought to have been a notable factor in the prevalence of vegetarianism among a segment of India's Hindu population, especially in southern India, Gujarat, and the Hindi-speaking belt of north-central India, as well as among Jains.\n",
      "29. Among these groups, strong discomfort is felt at thoughts of eating meat, and contributes to the low proportional consumption of meat to overall diet in India.\n",
      "30. Unlike China, which has increased its per capita meat consumption substantially in its years of increased economic growth, in India the strong dietary traditions have contributed to dairy, rather than meat, becoming the preferred form of animal protein consumption accompanying higher economic growth.\n",
      "31. The cultivation of rice had spread much earlier from India to Central and West Asia; however, it was during Mughal rule that dishes, such as the pilaf, developed in the interim during the Abbasid caliphate, and cooking techniques such as the marinating of meat in yogurt, spread into northern India from regions to its northwest.\n",
      "32. Rice grown to the southwest of the Mughal capital, Agra, which had become famous in the Islamic world for its fine grain, was partially cooked and layered alternately with the sauteed meat, the pot sealed tightly, and slow cooked according to another Persian cooking technique, to produce what has today become the Indian biryani, a feature of festive dining in many parts of India.\n",
      "33. The identification of Indian cuisine with the tandoori chicken—cooked in the tandoor oven, which had traditionally been used for baking bread in the rural Punjab and the Delhi region, especially among Muslims, but which is originally from Central Asia—dates to this period.\n"
     ]
    }
   ],
   "source": [
    "show_cluster_sentences(9)"
   ]
  },
  {
   "cell_type": "code",
   "execution_count": 95,
   "metadata": {
    "scrolled": true
   },
   "outputs": [
    {
     "name": "stdout",
     "output_type": "stream",
     "text": [
      "Sentences in cluster 10\n",
      "\n",
      "1. Settled life emerged on the subcontinent in the western margins of the Indus river basin 9,000 years ago, evolving gradually into the Indus Valley Civilisation of the third millennium BCE.\n",
      "2. By 1200 BCE, an archaic form of Sanskrit, an Indo-European language, had diffused into India from the northwest, unfolding as the language of the Rigveda, and recording the dawning of Hinduism in India.\n",
      "3. Muslim armies from Central Asia intermittently overran India's northern plains, eventually establishing the Delhi Sultanate, and drawing northern India into the cosmopolitan networks of medieval Islam.\n",
      "4. Among the socio-economic challenges India faces are gender inequality, child malnutrition, and rising levels of air pollution.\n",
      "5. The term Bharat (Bhārat; pronounced [ˈbʱaːɾət] (listen)), mentioned in both Indian epic poetry and the Constitution of India, is used in its variations by many Indian languages.\n",
      "6. A modern rendering of the historical name Bharatavarsha, which applied originally to a region of the Gangetic Valley, Bharat gained increased currency from the mid-19th century as a native name for India.\n",
      "7. These gradually developed into the Indus Valley Civilisation, the first urban culture in South Asia, which flourished during 2500–1900 BCE in what is now Pakistan and western India.\n",
      "8. The Vedas, the oldest scriptures associated with Hinduism, were composed during this period, and historians have analysed these to posit a Vedic culture in the Punjab region and the upper Gangetic Plain.\n",
      "9. The caste system, which created a hierarchy of priests, warriors, and free peasants, but which excluded indigenous peoples by labelling their occupations impure, arose during this period.\n",
      "10. Buddhism, based on the teachings of Gautama Buddha, attracted followers from all social classes excepting the middle class; chronicling the life of the Buddha was central to the beginnings of recorded history in India.\n",
      "11. The Sangam literature of the Tamil language reveals that, between 200 BCE and 200 CE, the southern peninsula was ruled by the Cheras, the Cholas, and the Pandyas, dynasties that traded extensively with the Roman Empire and with West and South-East Asia.\n",
      "12. Indian merchants, scholars, and sometimes armies were involved in this transmission; South-East Asians took the initiative as well, with many sojourning in Indian seminaries and translating Buddhist and Hindu texts into their languages.\n",
      "13. By repeatedly repulsing Mongol raiders in the 13th century, the sultanate saved India from the devastation visited on West and Central Asia, setting the scene for centuries of migration of fleeing soldiers, learned men, mystics, traders, artists, and artisans from that region into the subcontinent, thereby creating a syncretic Indo-Islamic culture in the north.\n",
      "14. Newly coherent social groups in northern and western India, such as the Marathas, the Rajputs, and the Sikhs, gained military and governing ambitions during Mughal rule, which, through collaboration or adversity, gave them both recognition and military experience.\n",
      "15. By the early 18th century, with the lines between commercial and political dominance being increasingly blurred, a number of European trading companies, including the English East India Company, had established coastal outposts.\n",
      "16. Fed by diverse resentments and perceptions, including invasive British-style social reforms, harsh land taxes, and summary treatment of some rich landowners and princes, the rebellion rocked many regions of northern and central India and shook the foundations of Company rule.\n",
      "17. Economic liberalisation, which began in the 1990s, has created a large urban middle class, transformed India into one of the world's fastest-growing economies, and increased its geopolitical clout.\n",
      "18. These dual processes, driven by convection in the Earth's mantle, both created the Indian Ocean and caused the Indian continental crust eventually to under-thrust Eurasia and to uplift the Himalayas.\n",
      "19. Immediately south of the emerging Himalayas, plate movement created a vast trough that rapidly filled with river-borne sediment and now constitutes the Indo-Gangetic Plain.\n",
      "20. To the south, the remaining peninsular landmass, the Deccan Plateau, is flanked on the west and east by coastal ranges known as the Western and Eastern Ghats; the plateau contains the country's oldest rock formations, some over one billion years old.\n",
      "21. According to the Indian naval hydrographic charts, the mainland coastline consists of the following: 43% sandy beaches; 11% rocky shores, including cliffs; and 46% mudflats or marshy shores.\n",
      "22. Major Himalayan-origin rivers that substantially flow through India include the Ganges and the Brahmaputra, both of which drain into the Bay of Bengal.\n",
      "23. Important tributaries of the Ganges include the Yamuna and the Kosi; the latter's extremely low gradient, caused by long-term silt deposition, leads to severe floods and course changes.\n",
      "24. Major peninsular rivers, whose steeper gradients prevent their waters from flooding, include the Godavari, the Mahanadi, the Kaveri, and the Krishna, which also drain into the Bay of Bengal; and the Narmada and the Tapti, which drain into the Arabian Sea.\n",
      "25. Coastal features include the marshy Rann of Kutch of western India and the alluvial Sundarbans delta of eastern India; the latter is shared with Bangladesh.\n",
      "26. It can be subdivided further into broad categories of canopy density, or the proportion of the area of a forest covered by its tree canopy.\n",
      "27. Open forest, whose canopy density is between 10% and 40%, occupies 9.14% of India's land area, and predominates in the babul-dominated thorn forest of the central Deccan Plateau and the western Gangetic plain.\n",
      "28. This had the effect of lowering endemism among India's mammals, which stands at 12.6%, contrasting with 45.8% among reptiles and 55.8% among amphibians.\n",
      "29. During the Vedic period (c. 1700 – c. 500 BCE), the foundations of Hindu philosophy, mythology, theology and literature were laid, and many beliefs and practices which still exist today, such as dhárma, kárma, yóga, and mokṣa, were established.\n",
      "30. As applied in Hindu temple architecture, it is influenced by the Shilpa Shastras, a series of foundational texts whose basic mythological form is the Vastu-Purusha mandala, a square that embodied the \"absolute\".\n",
      "31. Major works of Sanskrit literature include the Rigveda (c. 1500 BCE – 1200 BCE), the epics: Mahābhārata (c. 400 BCE – 400 CE) and the Ramayana (c. 300 BCE and later); Abhijñānaśākuntalam (The Recognition of Śakuntalā, and other dramas of Kālidāsa (c. 5th century CE) and Mahākāvya poetry.\n",
      "32. From the 14th to the 18th centuries, India's literary traditions went through a period of drastic change because of the emergence of devotional poets like Kabīr, Tulsīdās, and Guru Nānak.\n",
      "33. This period was characterised by a varied and wide spectrum of thought and expression; as a consequence, medieval Indian literary works differed significantly from classical traditions.\n",
      "34. Eight dance forms, many with narrative forms and mythological elements, have been accorded classical dance status by India's National Academy of Music, Dance, and Drama.\n",
      "35. Often based on Hindu mythology, but also borrowing from medieval romances or social and political events, Indian theatre includes: the bhavai of Gujarat, the jatra of West Bengal, the nautanki and ramlila of North India, tamasha of Maharashtra, burrakatha of Andhra Pradesh, terukkuttu of Tamil Nadu, and the yakshagana of Karnataka.\n",
      "36. The Hindi language film industry (Bollywood) is the largest sector representing 43% of box office revenue, followed by the South Indian Telugu and Tamil film industries which represent 36% combined.\n",
      "37. Television broadcasting began in India in 1959 as a state-run medium of communication and expanded slowly for more than two decades.\n",
      "38. The Indian caste system embodies much of the social stratification and many of the social restrictions found in the Indian subcontinent.\n",
      "39. The most widely worn traditional dress in India, for both women and men, from ancient times until the advent of modern times, was draped.\n",
      "40. For women it eventually took the form of a sari, a single long piece of cloth, famously six yards long, and of width spanning the lower body.\n",
      "41. The sari is tied around the waist and knotted at one end, wrapped around the lower body, and then over the shoulder.\n",
      "42. In south India, it is usually wrapped around the lower body, the upper end tucked in the waistband, the lower left free.\n",
      "43. The arrival of the Kushans from Central Asia, circa 48 CE, popularised cut and sewn garments in the style of Central Asian favoured by the elite in northern India.\n",
      "44. Among the various garments gradually establishing themselves in northern India during medieval and early-modern times and now commonly worn are: the shalwars and pyjamas both forms of trousers, as well as the tunics kurta and kameez.\n",
      "45. A kurta, which traces its roots to Central Asian nomadic tunics, has evolved stylistically in India as a garment for everyday wear as well as for formal occasions.\n",
      "46. Increasingly, in urban settings in northern India, the sari is no longer the apparel of everyday wear, transformed instead into one for formal occasions.\n",
      "47. For weddings and formal occasions, men in the middle- and upper classes often wear bandgala, or short Nehru jackets, with pants, with the groom and his groomsmen sporting sherwanis and churidars.\n",
      "48. The dhoti, the once universal garment of Hindu India, the wearing of which in the homespun and handwoven form of khadi allowed Gandhi to bring Indian nationalism to the millions, is seldom seen in the cities, reduced now, with brocaded border, to the liturgical vestments of Hindu priests.\n",
      "49. Given the range of diversity in soil type, climate, culture, ethnic groups, and occupations, these cuisines vary substantially from each other, using locally available spices, herbs, vegetables, and fruit.\n",
      "50. These three influences are reflected, respectively, in the dishes of pilaf and biryani; the vindaloo; and the tiffin and the Railway mutton curry.\n",
      "51. The foundation of a typical Indian meal is a cereal cooked in plain fashion, and complemented with flavourful savoury dishes.\n",
      "52. The latter includes lentils, pulses and vegetables spiced commonly with ginger and garlic, but also more discerningly with a combination of spices that may include coriander, cumin, turmeric, cinnamon, cardamon and others as informed by culinary conventions.\n",
      "53. A notable feature of Indian food is the existence of a number of distinctive vegetarian cuisines, each a feature of the geographical and cultural histories of its adherents.\n",
      "54. In the last millennium, the most significant import of cooking techniques into India occurred during the Mughal Empire.\n",
      "55. To the simple yogurt marinade of Persia, onions, garlic, almonds, and spices began to be added in India.\n",
      "56. Major domestic competitions include the Indian Premier League, which is the most-watched cricket league in the world and ranks sixth among all sports leagues.\n"
     ]
    }
   ],
   "source": [
    "show_cluster_sentences(10)"
   ]
  },
  {
   "cell_type": "markdown",
   "metadata": {},
   "source": [
    "### Encoding the question"
   ]
  },
  {
   "cell_type": "code",
   "execution_count": 96,
   "metadata": {},
   "outputs": [],
   "source": [
    "def get_most_similar_cluster(question_vector):\n",
    "    \"\"\"Returns the cluster label of most similar cluster.\n",
    "    Considers the cosine similarity between question vector and cluster centroid\n",
    "    \"\"\"\n",
    "    # max_sim[0] -> cluster label; max_sim[1] -> similarity score\n",
    "    max_sim = [0, 0]\n",
    "    for cluster_label, centroid_vector in enumerate(kmeans.cluster_centers_):\n",
    "        cosine_sim = cosine(question_vector, centroid_vector)\n",
    "        if cosine_sim > max_sim[1]:\n",
    "            max_sim = [cluster_label, cosine_sim]\n",
    "    return max_sim"
   ]
  },
  {
   "cell_type": "code",
   "execution_count": 97,
   "metadata": {},
   "outputs": [
    {
     "name": "stdout",
     "output_type": "stream",
     "text": [
      "Nb words kept : 5/9 (55.6%)\n",
      "Speed : 27.1 sentences/s (cpu mode, bsize=128)\n",
      "Question vector: [ 0.04600282  0.15134372 -0.04607344 ...  0.0321859  -0.02943331\n",
      "  0.05108219]\n",
      "nb sentences encoded : 1\n"
     ]
    }
   ],
   "source": [
    "question = 'Which are the neighbouring countries to India?'\n",
    "question = [question]\n",
    "question_vector = model.encode(question, bsize=128, tokenize=False, verbose=True)[0]\n",
    "print('Question vector: {0}'.format(question_vector))\n",
    "print('nb sentences encoded : {0}'.format(len(question)))"
   ]
  },
  {
   "cell_type": "markdown",
   "metadata": {},
   "source": [
    "### Cluster similar to question vector"
   ]
  },
  {
   "cell_type": "code",
   "execution_count": 98,
   "metadata": {},
   "outputs": [
    {
     "data": {
      "text/plain": [
       "[1, 0.8185905]"
      ]
     },
     "execution_count": 98,
     "metadata": {},
     "output_type": "execute_result"
    }
   ],
   "source": [
    "most_sim_cluster = get_most_similar_cluster(question_vector)\n",
    "most_sim_cluster"
   ]
  },
  {
   "cell_type": "code",
   "execution_count": 99,
   "metadata": {
    "scrolled": true
   },
   "outputs": [
    {
     "name": "stdout",
     "output_type": "stream",
     "text": [
      "Sentences in cluster 1\n",
      "\n",
      "1. In the Indian Ocean, India is in the vicinity of Sri Lanka and the Maldives; its Andaman and Nicobar Islands share a maritime border with Thailand and Indonesia.\n",
      "2. The Dravidian languages of India were supplanted in the northern regions.\n",
      "3. In the early medieval era, Christianity, Islam, Judaism, and Zoroastrianism put down roots on India's southern and western coasts.\n",
      "4. In the 15th century, the Vijayanagara Empire created a long-lasting composite Hindu culture in south India.\n",
      "5. The Mughal Empire, in 1526, ushered in two centuries of relative peace, leaving a legacy of luminous architecture.\n",
      "6. The ancient Greeks referred to the Indians as Indoi (Ἰνδοί), which translates as \"The people of the Indus\".\n",
      "7. Jainism came into prominence during the life of its exemplar, Mahavira.\n",
      "8. In the 6th and 7th centuries, the first devotional hymns were created in the Tamil language.\n",
      "9. They were imitated all over India and led to both the resurgence of Hinduism and the development of all modern languages of the subcontinent.\n",
      "10. However, disaffection with the company also grew during this time and set off the Indian Rebellion of 1857.\n",
      "11. The next decade was beset with crises: Indian participation in World War II, the Congress's final push for non-co-operation, and an upsurge of Muslim nationalism.\n",
      "12. India accounts for the bulk of the Indian subcontinent, lying atop the Indian tectonic plate, a part of the Indo-Australian Plate.\n",
      "13. Cut off from the plain by the ancient Aravalli Range lies the Thar Desert.\n",
      "14. These parallel chains run from the Arabian Sea coast in Gujarat in the west to the coal-rich Chota Nagpur Plateau in Jharkhand in the east.\n",
      "15. Still later, mammals entered India from Asia through two zoogeographical passes flanking the Himalayas.\n",
      "16. For most of the period between 1950—when India first became a republic—and the late 1980s, the Congress held a majority in the parliament.\n",
      "17. In the Republic of India's first three general elections, in 1951, 1957, and 1962, the Jawaharlal Nehru-led Congress won easy victories.\n",
      "18. A two-year period of political turmoil followed the general election of 1996.\n",
      "19. On 20 July 2017, Ram Nath Kovind was elected India's 14th president and took the oath of office on 25 July 2017.\n",
      "20. The Government of India comprises three branches: India is a federal union comprising 28 states and 8 union territories.\n",
      "21. It participates in the East Asia Summit, the G8+5, and other multilateral forums.\n",
      "22. Since the end of the Cold War, India has increased its economic, strategic, and military co-operation with the United States and the European Union.\n",
      "23. It comprises the Indian Army, the Indian Navy, the Indian Air Force, and the Indian Coast Guard.\n",
      "24. In 2008, India's share of world trade was 1.68%; In 2011, India was the world's tenth-largest importer and the nineteenth-largest exporter.\n",
      "25. India was the world's second largest textile exporter after China in the 2013 calendar year.\n",
      "26. India is among the top 12 biotech destinations in the world.\n",
      "27. 30.7% of India's children under the age of five are underweight.\n",
      "28. According to a Food and Agriculture Organization report in 2015, 15% of the population is undernourished.\n",
      "29. Other languages spoken in India come from the Austroasiatic and Sino-Tibetan language families.\n",
      "30. Hindi, with the largest number of speakers, is the official language of the government.\n",
      "31. Indo-Saracenic Revival architecture, developed by the British in the late 19th century, drew on Indo-Islamic architecture.\n",
      "32. The earliest literature in India, composed between 1500 BCE and 1200 CE, was in the Sanskrit language.\n",
      "33. In Tamil literature, the Sangam literature (c. 600 BCE – 300 BCE) consisting of 2,381 poems, composed by 473 poets, is the earliest work.\n",
      "34. In the 20th century, Indian literature was influenced by the works of the Bengali poet and novelist Rabindranath Tagore, who was a recipient of the Nobel Prize in Literature.\n",
      "35. Among the better-known folk dances are: the bhangra of Punjab, the bihu of Assam, the Jhumair and chhau of Jharkhand, Odisha and West Bengal, garba and dandiya of Gujarat, ghoomar of Rajasthan, and the lavani of Maharashtra.\n",
      "36. These are: bharatanatyam of the state of Tamil Nadu, kathak of Uttar Pradesh, kathakali and mohiniyattam of Kerala, kuchipudi of Andhra Pradesh, manipuri of Manipur, odissi of Odisha, and the sattriya of Assam.\n",
      "37. Until the beginning of the first millennium CE, the ordinary dress of people in India was entirely unstitched.\n",
      "38. Some of the earliest forms of Asian martial arts, such as kalarippayattu, musti yuddha, silambam, and marma adi, originated in India.\n",
      "39. Football is popular in West Bengal, Goa, Tamil Nadu, Kerala, and the north-eastern states.\n",
      "40. Major international sporting events held annually in India include the Chennai Open, the Mumbai Marathon, the Delhi Half Marathon, and the Indian Masters.\n"
     ]
    }
   ],
   "source": [
    "show_cluster_sentences(most_sim_cluster[0])"
   ]
  },
  {
   "cell_type": "markdown",
   "metadata": {},
   "source": [
    "### Q2"
   ]
  },
  {
   "cell_type": "code",
   "execution_count": 100,
   "metadata": {
    "scrolled": true
   },
   "outputs": [
    {
     "name": "stdout",
     "output_type": "stream",
     "text": [
      "Nb words kept : 2/7 (28.6%)\n",
      "Speed : 55.7 sentences/s (cpu mode, bsize=128)\n",
      "Question vector: [ 0.12260894 -0.02809364 -0.06930935 ... -0.04209305 -0.0116544\n",
      " -0.00440081]\n",
      "nb sentences encoded : 1\n"
     ]
    }
   ],
   "source": [
    "question = 'Which sports does India play?'\n",
    "question = [question]\n",
    "question_vector = model.encode(question, bsize=128, tokenize=False, verbose=True)[0]\n",
    "print('Question vector: {0}'.format(question_vector))\n",
    "print('nb sentences encoded : {0}'.format(len(question)))"
   ]
  },
  {
   "cell_type": "code",
   "execution_count": 101,
   "metadata": {},
   "outputs": [
    {
     "data": {
      "text/plain": [
       "[17, 0.59197646]"
      ]
     },
     "execution_count": 101,
     "metadata": {},
     "output_type": "execute_result"
    }
   ],
   "source": [
    "most_sim_cluster = get_most_similar_cluster(question_vector)\n",
    "most_sim_cluster"
   ]
  },
  {
   "cell_type": "code",
   "execution_count": 102,
   "metadata": {},
   "outputs": [
    {
     "name": "stdout",
     "output_type": "stream",
     "text": [
      "Sentences in cluster 17\n",
      "\n",
      "1. India, officially the Republic of India (Hindi: Bhārat Gaṇarājya), is a country in South Asia.\n",
      "2. Early political consolidations gave rise to the loose-knit Maurya and Gupta Empires based in the Ganges Basin.\n",
      "3. India has been a secular federal republic since 1950, governed in a democratic parliamentary system.\n",
      "4. Hindustan ([ɦɪndʊˈstaːn] (listen)) is a Middle Persian name for India, introduced during the Mughal Empire and used widely since.\n",
      "5. The resulting Mughal Empire did not stamp out the local societies it came to rule.\n",
      "6. Many historians consider this to be the onset of India's colonial period.\n",
      "7. Historians consider India's modern age to have begun sometime between 1848 and 1885.\n",
      "8. Technological changes—among them, railways, canals, and the telegraph—were introduced not long after their introduction in Europe.\n",
      "9. After World War I, in which approximately one million Indians served, a new period began.\n",
      "10. It has remained a democracy with civil liberties, an active Supreme Court, and a largely independent press.\n",
      "11. India's subsequent collision with Eurasia set off a mass exchange of species.\n",
      "12. The Congress is considered centre-left in Indian political culture, and the BJP right-wing.\n",
      "13. Elections were held again in 1991; no party won an absolute majority.\n",
      "14. The Congress, as the largest single party, was able to form a minority government led by P. V. Narasimha Rao.\n",
      "15. In 1998, the BJP was able to form a successful coalition, the National Democratic Alliance (NDA).\n",
      "16. Led by Atal Bihari Vajpayee, the NDA became the first non-Congress, coalition government to complete a five-year term.\n",
      "17. It had the support of left-leaning parties and MPs who opposed the BJP.\n",
      "18. India is a federation with a parliamentary system governed under the Constitution of India—the country's supreme legal document.\n",
      "19. In 1956, under the States Reorganisation Act, states were reorganised on a linguistic basis.\n",
      "20. In the 1950s, India strongly supported decolonisation in Africa and Asia and played a leading role in the Non-Aligned Movement.\n",
      "21. In recent years, it has played key roles in the South Asian Association for Regional Cooperation and the World Trade Organization.\n",
      "22. The official Indian defence budget for 2011 was US$36.03 billion, or 1.83% of GDP.\n",
      "23. In May 2017, the Indian Space Research Organisation launched the South Asia Satellite, a gift from India to its neighbouring SAARC countries.\n",
      "24. India has been a member of WTO since 1 January 1995.\n",
      "25. India's consumer market, the world's eleventh-largest, is expected to become fifth-largest by 2030.\n",
      "26. It is expected to grow to US$2,358 by 2020.\n",
      "27. Under the World Bank's later revised poverty line, it was 21% in 2011.\n",
      "28. Corruption in India is perceived to have decreased.\n",
      "29. Kerala is the most literate state with 93.91% literacy; while Bihar the least with 63.82%.\n",
      "30. India has the world's largest Hindu, Sikh, Jain, Zoroastrian, and Bahá'í populations, and has the third-largest Muslim population—the largest for a non-Muslim majority country.\n",
      "31. India is notable for its religious diversity, with Hinduism, Buddhism, Sikhism, Islam, Christianity, and Jainism among the nation's major religions.\n",
      "32. Vernacular architecture is also regional in its flavours.\n",
      "33. Traditional Indian society is sometimes defined by social hierarchy.\n",
      "34. For men, a similar but shorter length of cloth, the dhoti, has served as a lower-body garment.\n",
      "35. It too is tied around the waist and wrapped.\n",
      "36. Shalwars are atypically wide at the waist but narrow to a cuffed bottom.\n",
      "37. The kameez is a long shirt or tunic.\n",
      "38. In the last 50 years, fashions have changed a great deal in India.\n",
      "39. The traditional shalwar kameez is rarely worn by younger women, who favour churidars or jeans.\n",
      "40. The kurtas worn by young men usually fall to the shins and are seldom plain.\n",
      "41. Earlier, the Columbian exchange had brought the potato, the tomato, maize, peanuts, cashew nuts, pineapples, guavas, and most notably, chilli peppers, to India.\n",
      "42. Pachisi, from which parcheesi derives, was played on a giant marble court by Akbar.\n",
      "43. Cricket is the most popular sport in India.\n",
      "44. India has traditionally been the dominant country at the South Asian Games.\n"
     ]
    }
   ],
   "source": [
    "show_cluster_sentences(most_sim_cluster[0])"
   ]
  },
  {
   "cell_type": "code",
   "execution_count": null,
   "metadata": {},
   "outputs": [],
   "source": []
  },
  {
   "cell_type": "code",
   "execution_count": null,
   "metadata": {},
   "outputs": [],
   "source": []
  },
  {
   "cell_type": "markdown",
   "metadata": {},
   "source": [
    "# Clustering Approach - Cosine Distance\n",
    "### Clustering similar sentences using K-Medoids (sklearn-extra algorithm, uses Cosine distance)"
   ]
  },
  {
   "cell_type": "code",
   "execution_count": 114,
   "metadata": {},
   "outputs": [],
   "source": [
    "from sklearn_extra.cluster import KMedoids"
   ]
  },
  {
   "cell_type": "code",
   "execution_count": 115,
   "metadata": {
    "scrolled": true
   },
   "outputs": [
    {
     "data": {
      "text/plain": [
       "(444, 4096)"
      ]
     },
     "execution_count": 115,
     "metadata": {},
     "output_type": "execute_result"
    }
   ],
   "source": [
    "embeddings.shape"
   ]
  },
  {
   "cell_type": "code",
   "execution_count": 116,
   "metadata": {},
   "outputs": [],
   "source": [
    "X = embeddings"
   ]
  },
  {
   "cell_type": "code",
   "execution_count": 117,
   "metadata": {},
   "outputs": [
    {
     "name": "stdout",
     "output_type": "stream",
     "text": [
      "[13  5 10 19  1 11  5  2  5  7 14  1  0 14  1 14 14 14 15 15 11 11  1 16\n",
      " 13  3  3 13 12  2 17 13  9  7  9 12  5 19 10 10 19 12 19  1  4 18  2 11\n",
      " 14  8  1  7 14  7  0 16  2  2 17  0 11  7  5 14  0 14  4 16 19  8 14  6\n",
      " 14  8 15  0  2  0 11  0  0  0  6 11  1 14 14 11 12 11  1  9 14 14 14 11\n",
      "  5 11 11  6 10 11 12 14 14 12 10 11  1 14  2  0 17 11 11 12 11 17 17  1\n",
      "  8 16  5  2  5  9 11  2 18 14  8 11 19 14  5  8 18 19 14 11  5 11 11  5\n",
      "  8  5 11  5 18  8 18 18  5 18  8 18  5 18 18  5 18 14 11  8  9 18 18 19\n",
      " 18 16 14  0 18 12 13 13  5 16 14  8  1 12  8  1  1 12 14 14  1 12 12  1\n",
      "  1 14  8 14 13  1 13  5 14  8 16 13  0  1 12  5 13  1  8 14 14 14 14 12\n",
      " 11  9 11 11 11 12 11 13 11 14 14 11 14 17  5 12 12 17  4 11  5 14 14 11\n",
      " 19  3  3  0 14 11 12 13 17  4  3 17  9  9 11  9  3  1 17  4  0 11  9  3\n",
      "  3  9  9  9 10  3 17 11  5 11  3  9  4 17  9 17  5  3 17  4  3 12 12 10\n",
      "  9  4  4 17 12  8  1  3  4  3  4  3  3  3 12  5  5  3  3 10  3  3  3 13\n",
      " 10 19 12 10 13  8  1 12 16  5 12  5  0 13 11 13  5  1  2  2  2  2 14  2\n",
      "  2 15  2  2  2  2  2  2 12  2 13 13 14  2 13 14  7  4 16  2  7 16 12  5\n",
      "  8  9  5  7  4  5 10  2  5 12  2  8  8 12  8 12  8  8  8  8  2 19  6  6\n",
      "  6  8  8  8  8  8  9 12 15 12  8  8 12  6 15  8 11  8  8 15 11  1  1  8\n",
      "  3 16 13  5 11  5  5 18  8  2  7  7  3  5 11  8  8  5  1  8 16  2 10  1\n",
      " 11  5  7  5 12  7  8 10 12 12  8 11]\n"
     ]
    }
   ],
   "source": [
    "# 20 clusters\n",
    "N_CLUSTERS = 20\n",
    "kmedoids = KMedoids(n_clusters=N_CLUSTERS, metric='cosine', random_state=0).fit(X)\n",
    "print(kmedoids.labels_)"
   ]
  },
  {
   "cell_type": "code",
   "execution_count": 118,
   "metadata": {},
   "outputs": [
    {
     "data": {
      "text/plain": [
       "(20, 4096)"
      ]
     },
     "execution_count": 118,
     "metadata": {},
     "output_type": "execute_result"
    }
   ],
   "source": [
    "kmedoids.cluster_centers_.shape"
   ]
  },
  {
   "cell_type": "code",
   "execution_count": 120,
   "metadata": {
    "scrolled": true
   },
   "outputs": [
    {
     "name": "stdout",
     "output_type": "stream",
     "text": [
      "[[ 0 15]\n",
      " [ 1 27]\n",
      " [ 2 29]\n",
      " [ 3 24]\n",
      " [ 4 13]\n",
      " [ 5 39]\n",
      " [ 6  7]\n",
      " [ 7 12]\n",
      " [ 8 42]\n",
      " [ 9 18]\n",
      " [10 13]\n",
      " [11 45]\n",
      " [12 36]\n",
      " [13 20]\n",
      " [14 43]\n",
      " [15  7]\n",
      " [16 12]\n",
      " [17 15]\n",
      " [18 16]\n",
      " [19 11]]\n"
     ]
    }
   ],
   "source": [
    "unique, counts = np.unique(kmedoids.labels_, return_counts=True)\n",
    "print(np.asarray((unique, counts)).T)"
   ]
  },
  {
   "cell_type": "code",
   "execution_count": 113,
   "metadata": {},
   "outputs": [
    {
     "name": "stdout",
     "output_type": "stream",
     "text": [
      "[[ 0 14]\n",
      " [ 1 40]\n",
      " [ 2  8]\n",
      " [ 3 79]\n",
      " [ 4  7]\n",
      " [ 5 17]\n",
      " [ 6  6]\n",
      " [ 7 10]\n",
      " [ 8 12]\n",
      " [ 9 33]\n",
      " [10 56]\n",
      " [11  2]\n",
      " [12 22]\n",
      " [13  9]\n",
      " [14  4]\n",
      " [15 16]\n",
      " [16  3]\n",
      " [17 44]\n",
      " [18 47]\n",
      " [19 15]]\n"
     ]
    }
   ],
   "source": [
    "unique, counts = np.unique(kmeans.labels_, return_counts=True)\n",
    "print(np.asarray((unique, counts)).T)"
   ]
  },
  {
   "cell_type": "code",
   "execution_count": 121,
   "metadata": {},
   "outputs": [
    {
     "data": {
      "image/png": "[encoded data removed]",
      "text/plain": [
       "<Figure size 432x288 with 1 Axes>"
      ]
     },
     "metadata": {
      "needs_background": "light"
     },
     "output_type": "display_data"
    }
   ],
   "source": [
    "plt.hist(kmeans.labels_, bins=list(range(1, N_CLUSTERS)))\n",
    "plt.xticks(np.arange(0, 21, step=1))\n",
    "plt.yticks(np.arange(0, 61, step=10))\n",
    "plt.title('Histogram of predicted cluster labels with standard k-means (euclidean distance)')\n",
    "plt.show()"
   ]
  },
  {
   "cell_type": "code",
   "execution_count": 123,
   "metadata": {},
   "outputs": [
    {
     "data": {
      "image/png": "[encoded data removed]",
      "text/plain": [
       "<Figure size 432x288 with 1 Axes>"
      ]
     },
     "metadata": {
      "needs_background": "light"
     },
     "output_type": "display_data"
    }
   ],
   "source": [
    "plt.hist(kmedoids.labels_, bins=list(range(1, N_CLUSTERS)))\n",
    "plt.xticks(np.arange(0, 21, step=1))\n",
    "plt.yticks(np.arange(0, 61, step=10))\n",
    "plt.title('Histogram of predicted cluster labels with k-medoids (cosine distance)')\n",
    "plt.show()"
   ]
  },
  {
   "cell_type": "code",
   "execution_count": 124,
   "metadata": {},
   "outputs": [],
   "source": [
    "def show_cosine_cluster_sentences(cluster_label):\n",
    "    i = 0\n",
    "    print(\"Sentences in cluster {}\\n\".format(cluster_label))\n",
    "    for sent_index, label in enumerate(list(kmedoids.labels_)):\n",
    "        if label == cluster_label:\n",
    "            i += 1\n",
    "            print(\"{}. {}\".format(i, article_sentences[sent_index]))"
   ]
  },
  {
   "cell_type": "code",
   "execution_count": 134,
   "metadata": {
    "scrolled": true
   },
   "outputs": [
    {
     "name": "stdout",
     "output_type": "stream",
     "text": [
      "Sentences in cluster 4\n",
      "\n",
      "1. During the same time, its nominal per capita income increased from US$64 annually to US$1,498, and its literacy rate from 16.6% to 74%.\n",
      "2. India has substantially reduced its rate of poverty, though at the cost of increasing economic inequality.\n",
      "3. With its average annual GDP growth rate of 5.8% over the past two decades, and reaching 6.1% during 2011–2012, India is one of the world's fastest-growing economies.\n",
      "4. Averaging an economic growth rate of 7.5% for several years prior to 2007, India has more than doubled its hourly wage rates during the first decade of the 21st century.\n",
      "5. During the next four decades, Indian GDP is expected to grow at an annualised average of 8%, making it potentially the world's fastest-growing major economy until 2050.\n",
      "6. The slowing down of the overall population growth rate was due to the sharp decline in the growth rate in rural areas since 1991.\n",
      "7. The improvement in the rural literacy rate is twice that of urban areas.\n"
     ]
    }
   ],
   "source": [
    "# K-means\n",
    "show_cluster_sentences(4)"
   ]
  },
  {
   "cell_type": "code",
   "execution_count": 135,
   "metadata": {},
   "outputs": [
    {
     "name": "stdout",
     "output_type": "stream",
     "text": [
      "Sentences in cluster 4\n",
      "\n",
      "1. The earliest known modern human remains in South Asia date to about 30,000 years ago.\n",
      "2. This renewal was reflected in a flowering of sculpture and architecture, which found patrons among an urban elite.\n",
      "3. According to a 2008 Stockholm International Peace Research Institute (SIPRI) report, India's annual military expenditure in terms of purchasing power stood at US$72.7 billion.\n",
      "4. India's foreign exchange remittances of US$70 billion in 2014, the largest in the world, were contributed to its economy by 25 million Indians working in foreign countries.\n",
      "5. Some 431 million Indians have left poverty since 1985; India's middle classes are projected to number around 580 million by 2030.\n",
      "6. At the end of 2011, the Indian IT industry employed 2.8 million professionals, generated revenues close to US$100 billion equalling 7.5% of Indian GDP, and contributed 26% of India's merchandise exports.\n",
      "7. In 2006, India contained the largest number of people living below the World Bank's international poverty line of US$1.25 per day.\n",
      "8. According to a 2016 Walk Free Foundation report there were an estimated 18.3 million people in India, or 1.4% of the population, living in the forms of modern slavery, such as bonded labour, child labour, human trafficking, and forced begging, among others.\n",
      "9. According to the 2011 census, there were 10.1 million child labourers in the country, a decline of 2.6 million from 12.6 million in 2001.\n",
      "10. The human sex ratio, according to the 2011 census, is 940 females per 1,000 males.\n",
      "11. The first post-colonial census, conducted in 1951, counted 361 million people.\n",
      "12. Today, television is the most penetrative media in India; industry estimates indicate that as of 2012[update] there are over 554 million TV consumers, 462 million with satellite or cable connections compared to other forms of mass media such as the press (350 million), radio (156 million) or internet (37 million).\n",
      "13. Accord to an Indian government study, an additional 21 million girls are unwanted and do not receive adequate care.\n"
     ]
    }
   ],
   "source": [
    "# K-medoids\n",
    "show_cosine_cluster_sentences(4)"
   ]
  },
  {
   "cell_type": "code",
   "execution_count": 136,
   "metadata": {},
   "outputs": [],
   "source": [
    "def get_most_similar_cosine_cluster(question_vector):\n",
    "    \"\"\"Returns the cluster label of most similar cluster.\n",
    "    Considers the cosine similarity between question vector and cluster centroid\n",
    "    \"\"\"\n",
    "    # max_sim[0] -> cluster label; max_sim[1] -> similarity score\n",
    "    max_sim = [0, 0]\n",
    "    for cluster_label, centroid_vector in enumerate(kmedoids.cluster_centers_):\n",
    "        cosine_sim = cosine(question_vector, centroid_vector)\n",
    "        if cosine_sim > max_sim[1]:\n",
    "            max_sim = [cluster_label, cosine_sim]\n",
    "    return max_sim"
   ]
  },
  {
   "cell_type": "code",
   "execution_count": 138,
   "metadata": {},
   "outputs": [
    {
     "name": "stdout",
     "output_type": "stream",
     "text": [
      "Nb words kept : 5/9 (55.6%)\n",
      "Speed : 26.4 sentences/s (cpu mode, bsize=128)\n",
      "Question vector: [ 0.04600282  0.15134372 -0.04607344 ...  0.0321859  -0.02943331\n",
      "  0.05108219]\n",
      "nb sentences encoded : 1\n"
     ]
    }
   ],
   "source": [
    "question = 'Which are the neighbouring countries to India?'\n",
    "question = [question]\n",
    "question_vector = model.encode(question, bsize=128, tokenize=False, verbose=True)[0]\n",
    "print('Question vector: {0}'.format(question_vector))\n",
    "print('nb sentences encoded : {0}'.format(len(question)))"
   ]
  },
  {
   "cell_type": "code",
   "execution_count": 143,
   "metadata": {},
   "outputs": [
    {
     "data": {
      "text/plain": [
       "[12, 0.5771079]"
      ]
     },
     "execution_count": 143,
     "metadata": {},
     "output_type": "execute_result"
    }
   ],
   "source": [
    "most_sim_cluster = get_most_similar_cosine_cluster(question_vector)\n",
    "most_sim_cluster"
   ]
  },
  {
   "cell_type": "code",
   "execution_count": 144,
   "metadata": {
    "scrolled": true
   },
   "outputs": [
    {
     "name": "stdout",
     "output_type": "stream",
     "text": [
      "Sentences in cluster 12\n",
      "\n",
      "1. It has a space programme which includes several planned or completed extraterrestrial missions.\n",
      "2. Its forest cover comprises 21.4% of its area.\n",
      "3. Hindustan ([ɦɪndʊˈstaːn] (listen)) is a Middle Persian name for India, introduced during the Mughal Empire and used widely since.\n",
      "4. The resulting Mughal Empire did not stamp out the local societies it came to rule.\n",
      "5. Historians consider India's modern age to have begun sometime between 1848 and 1885.\n",
      "6. Technological changes—among them, railways, canals, and the telegraph—were introduced not long after their introduction in Europe.\n",
      "7. After World War I, in which approximately one million Indians served, a new period began.\n",
      "8. India is the world's most populous democracy.\n",
      "9. Its government lasted just over two years.\n",
      "10. The Congress, as the largest single party, was able to form a minority government led by P. V. Narasimha Rao.\n",
      "11. In 1998, the BJP was able to form a successful coalition, the National Democratic Alliance (NDA).\n",
      "12. Led by Atal Bihari Vajpayee, the NDA became the first non-Congress, coalition government to complete a five-year term.\n",
      "13. In 1956, under the States Reorganisation Act, states were reorganised on a linguistic basis.\n",
      "14. In recent years, it has played key roles in the South Asian Association for Regional Cooperation and the World Trade Organization.\n",
      "15. Despite criticism and military sanctions, India has signed neither the Comprehensive Nuclear-Test-Ban Treaty nor the Nuclear Non-Proliferation Treaty, considering both to be flawed and discriminatory.\n",
      "16. It comprises the Indian Army, the Indian Navy, the Indian Air Force, and the Indian Coast Guard.\n",
      "17. The official Indian defence budget for 2011 was US$36.03 billion, or 1.83% of GDP.\n",
      "18. India has been a member of WTO since 1 January 1995.\n",
      "19. Under the World Bank's later revised poverty line, it was 21% in 2011.\n",
      "20. 30.7% of India's children under the age of five are underweight.\n",
      "21. Corruption in India is perceived to have decreased.\n",
      "22. Migration from rural to urban areas has been an important dynamic in India's recent history.\n",
      "23. India has no national language.\n",
      "24. India has the world's largest Hindu, Sikh, Jain, Zoroastrian, and Bahá'í populations, and has the third-largest Muslim population—the largest for a non-Muslim majority country.\n",
      "25. India is notable for its religious diversity, with Hinduism, Buddhism, Sikhism, Islam, Christianity, and Jainism among the nation's major religions.\n",
      "26. Theatre in India melds music, dance, and improvised or written dialogue.\n",
      "27. At the workplace in urban India, and in international or leading Indian companies, caste-related identification has pretty much lost its importance.\n",
      "28. The best known include: Diwali, Ganesh Chaturthi, Thai Pongal, Holi, Durga Puja, Eid ul-Fitr, Bakr-Id, Christmas, and Vaisakhi.\n",
      "29. In its more modern form, it has been used to cover the head, and sometimes the face, as a veil.\n",
      "30. For men, a similar but shorter length of cloth, the dhoti, has served as a lower-body garment.\n",
      "31. The kameez may have a European-style collar, a Mandarin-collar, or it may be collarless; in the latter case, its design as a women's garment is similar to a kurta.\n",
      "32. A kurta, which traces its roots to Central Asian nomadic tunics, has evolved stylistically in India as a garment for everyday wear as well as for formal occasions.\n",
      "33. In the last 50 years, fashions have changed a great deal in India.\n",
      "34. Cricket is the most popular sport in India.\n",
      "35. The first Formula 1 Indian Grand Prix featured in late 2011 but has been discontinued from the F1 season calendar since 2014.\n",
      "36. India has traditionally been the dominant country at the South Asian Games.\n"
     ]
    }
   ],
   "source": [
    "show_cosine_cluster_sentences(most_sim_cluster[0])"
   ]
  },
  {
   "cell_type": "code",
   "execution_count": null,
   "metadata": {},
   "outputs": [],
   "source": []
  },
  {
   "cell_type": "code",
   "execution_count": 156,
   "metadata": {},
   "outputs": [
    {
     "name": "stdout",
     "output_type": "stream",
     "text": [
      "Nb words kept : 3/7 (42.9%)\n",
      "Speed : 38.6 sentences/s (cpu mode, bsize=128)\n",
      "Question vector: [ 0.04641258  0.09313729 -0.02093579 ... -0.01178609 -0.05497329\n",
      " -0.02721546]\n",
      "nb sentences encoded : 1\n"
     ]
    }
   ],
   "source": [
    "question = 'Which is the capital city?'\n",
    "question = [question]\n",
    "question_vector = model.encode(question, bsize=128, tokenize=False, verbose=True)[0]\n",
    "print('Question vector: {0}'.format(question_vector))\n",
    "print('nb sentences encoded : {0}'.format(len(question)))"
   ]
  },
  {
   "cell_type": "code",
   "execution_count": 157,
   "metadata": {},
   "outputs": [
    {
     "name": "stdout",
     "output_type": "stream",
     "text": [
      "Sentences in cluster 12\n",
      "\n",
      "1. It has a space programme which includes several planned or completed extraterrestrial missions.\n",
      "2. Its forest cover comprises 21.4% of its area.\n",
      "3. Hindustan ([ɦɪndʊˈstaːn] (listen)) is a Middle Persian name for India, introduced during the Mughal Empire and used widely since.\n",
      "4. The resulting Mughal Empire did not stamp out the local societies it came to rule.\n",
      "5. Historians consider India's modern age to have begun sometime between 1848 and 1885.\n",
      "6. Technological changes—among them, railways, canals, and the telegraph—were introduced not long after their introduction in Europe.\n",
      "7. After World War I, in which approximately one million Indians served, a new period began.\n",
      "8. India is the world's most populous democracy.\n",
      "9. Its government lasted just over two years.\n",
      "10. The Congress, as the largest single party, was able to form a minority government led by P. V. Narasimha Rao.\n",
      "11. In 1998, the BJP was able to form a successful coalition, the National Democratic Alliance (NDA).\n",
      "12. Led by Atal Bihari Vajpayee, the NDA became the first non-Congress, coalition government to complete a five-year term.\n",
      "13. In 1956, under the States Reorganisation Act, states were reorganised on a linguistic basis.\n",
      "14. In recent years, it has played key roles in the South Asian Association for Regional Cooperation and the World Trade Organization.\n",
      "15. Despite criticism and military sanctions, India has signed neither the Comprehensive Nuclear-Test-Ban Treaty nor the Nuclear Non-Proliferation Treaty, considering both to be flawed and discriminatory.\n",
      "16. It comprises the Indian Army, the Indian Navy, the Indian Air Force, and the Indian Coast Guard.\n",
      "17. The official Indian defence budget for 2011 was US$36.03 billion, or 1.83% of GDP.\n",
      "18. India has been a member of WTO since 1 January 1995.\n",
      "19. Under the World Bank's later revised poverty line, it was 21% in 2011.\n",
      "20. 30.7% of India's children under the age of five are underweight.\n",
      "21. Corruption in India is perceived to have decreased.\n",
      "22. Migration from rural to urban areas has been an important dynamic in India's recent history.\n",
      "23. India has no national language.\n",
      "24. India has the world's largest Hindu, Sikh, Jain, Zoroastrian, and Bahá'í populations, and has the third-largest Muslim population—the largest for a non-Muslim majority country.\n",
      "25. India is notable for its religious diversity, with Hinduism, Buddhism, Sikhism, Islam, Christianity, and Jainism among the nation's major religions.\n",
      "26. Theatre in India melds music, dance, and improvised or written dialogue.\n",
      "27. At the workplace in urban India, and in international or leading Indian companies, caste-related identification has pretty much lost its importance.\n",
      "28. The best known include: Diwali, Ganesh Chaturthi, Thai Pongal, Holi, Durga Puja, Eid ul-Fitr, Bakr-Id, Christmas, and Vaisakhi.\n",
      "29. In its more modern form, it has been used to cover the head, and sometimes the face, as a veil.\n",
      "30. For men, a similar but shorter length of cloth, the dhoti, has served as a lower-body garment.\n",
      "31. The kameez may have a European-style collar, a Mandarin-collar, or it may be collarless; in the latter case, its design as a women's garment is similar to a kurta.\n",
      "32. A kurta, which traces its roots to Central Asian nomadic tunics, has evolved stylistically in India as a garment for everyday wear as well as for formal occasions.\n",
      "33. In the last 50 years, fashions have changed a great deal in India.\n",
      "34. Cricket is the most popular sport in India.\n",
      "35. The first Formula 1 Indian Grand Prix featured in late 2011 but has been discontinued from the F1 season calendar since 2014.\n",
      "36. India has traditionally been the dominant country at the South Asian Games.\n"
     ]
    }
   ],
   "source": [
    "most_sim_cluster = get_most_similar_cosine_cluster(question_vector)\n",
    "show_cosine_cluster_sentences(most_sim_cluster[0])"
   ]
  },
  {
   "cell_type": "code",
   "execution_count": null,
   "metadata": {},
   "outputs": [],
   "source": []
  }
 ],
 "metadata": {
  "kernelspec": {
   "display_name": "Python 3",
   "language": "python",
   "name": "python3"
  },
  "language_info": {
   "codemirror_mode": {
    "name": "ipython",
    "version": 3
   },
   "file_extension": ".py",
   "mimetype": "text/x-python",
   "name": "python",
   "nbconvert_exporter": "python",
   "pygments_lexer": "ipython3",
   "version": "3.7.6"
  }
 },
 "nbformat": 4,
 "nbformat_minor": 4
}
